{
 "cells": [
  {
   "cell_type": "markdown",
   "metadata": {
    "id": "x6HhAJHk5HNu"
   },
   "source": [
    "# Maitriser l’API de twitter pour l’extraction des tweets\n"
   ]
  },
  {
   "cell_type": "code",
   "execution_count": null,
   "metadata": {
    "id": "xm_6MvCU5HN0"
   },
   "outputs": [],
   "source": []
  },
  {
   "cell_type": "code",
   "execution_count": null,
   "metadata": {
    "colab": {
     "base_uri": "https://localhost:8080/"
    },
    "executionInfo": {
     "elapsed": 6251,
     "status": "ok",
     "timestamp": 1607809156292,
     "user": {
      "displayName": "Yasmine Mejri",
      "photoUrl": "https://lh3.googleusercontent.com/a-/AOh14GitXB9uqeHn9LZHyp1jrvwlOpRiy4F4PmaqGsQu=s64",
      "userId": "13863323571485542434"
     },
     "user_tz": -60
    },
    "id": "5ztMFbpG5HN0",
    "outputId": "a830430d-2a5a-43f8-b3cf-d7f3d65779b1"
   },
   "outputs": [
    {
     "name": "stdout",
     "output_type": "stream",
     "text": [
      "Collecting preprocessor\n",
      "  Downloading https://files.pythonhosted.org/packages/96/ad/d9f4ffb9bb97d1cb5bcb876b7932571d4dbaa3eff1701ad45d367f0ea27b/preprocessor-1.1.3.tar.gz\n",
      "Building wheels for collected packages: preprocessor\n",
      "  Building wheel for preprocessor (setup.py) ... \u001b[?25l\u001b[?25hdone\n",
      "  Created wheel for preprocessor: filename=preprocessor-1.1.3-cp36-none-any.whl size=4478 sha256=ccfe5d09949202ae3e844361f543d0a7d500a926fd13e13b80830fdcce6ae054\n",
      "  Stored in directory: /root/.cache/pip/wheels/98/c1/a2/21fbcfd80d76576bbf148991a66f00730f541f265c7600000f\n",
      "Successfully built preprocessor\n",
      "Installing collected packages: preprocessor\n",
      "Successfully installed preprocessor-1.1.3\n"
     ]
    }
   ],
   "source": [
    "!pip install preprocessor\n"
   ]
  },
  {
   "cell_type": "code",
   "execution_count": null,
   "metadata": {
    "colab": {
     "base_uri": "https://localhost:8080/"
    },
    "executionInfo": {
     "elapsed": 8786,
     "status": "ok",
     "timestamp": 1607809158834,
     "user": {
      "displayName": "Yasmine Mejri",
      "photoUrl": "https://lh3.googleusercontent.com/a-/AOh14GitXB9uqeHn9LZHyp1jrvwlOpRiy4F4PmaqGsQu=s64",
      "userId": "13863323571485542434"
     },
     "user_tz": -60
    },
    "id": "_wdGA59I5HN1",
    "outputId": "96ad8963-6ec0-4bc8-c4cb-a822ce599c33"
   },
   "outputs": [
    {
     "name": "stdout",
     "output_type": "stream",
     "text": [
      "Requirement already satisfied: tweepy in /usr/local/lib/python3.6/dist-packages (3.6.0)\n",
      "Requirement already satisfied: requests>=2.11.1 in /usr/local/lib/python3.6/dist-packages (from tweepy) (2.23.0)\n",
      "Requirement already satisfied: PySocks>=1.5.7 in /usr/local/lib/python3.6/dist-packages (from tweepy) (1.7.1)\n",
      "Requirement already satisfied: requests-oauthlib>=0.7.0 in /usr/local/lib/python3.6/dist-packages (from tweepy) (1.3.0)\n",
      "Requirement already satisfied: six>=1.10.0 in /usr/local/lib/python3.6/dist-packages (from tweepy) (1.15.0)\n",
      "Requirement already satisfied: idna<3,>=2.5 in /usr/local/lib/python3.6/dist-packages (from requests>=2.11.1->tweepy) (2.10)\n",
      "Requirement already satisfied: chardet<4,>=3.0.2 in /usr/local/lib/python3.6/dist-packages (from requests>=2.11.1->tweepy) (3.0.4)\n",
      "Requirement already satisfied: urllib3!=1.25.0,!=1.25.1,<1.26,>=1.21.1 in /usr/local/lib/python3.6/dist-packages (from requests>=2.11.1->tweepy) (1.24.3)\n",
      "Requirement already satisfied: certifi>=2017.4.17 in /usr/local/lib/python3.6/dist-packages (from requests>=2.11.1->tweepy) (2020.12.5)\n",
      "Requirement already satisfied: oauthlib>=3.0.0 in /usr/local/lib/python3.6/dist-packages (from requests-oauthlib>=0.7.0->tweepy) (3.1.0)\n"
     ]
    }
   ],
   "source": [
    "!pip install tweepy\n"
   ]
  },
  {
   "cell_type": "code",
   "execution_count": null,
   "metadata": {
    "id": "cMXNI5en5HN2"
   },
   "outputs": [],
   "source": [
    "import preprocessor as p\n",
    "import statistics\n",
    "from typing import List\n",
    "import ssl\n"
   ]
  },
  {
   "cell_type": "code",
   "execution_count": null,
   "metadata": {
    "colab": {
     "base_uri": "https://localhost:8080/"
    },
    "executionInfo": {
     "elapsed": 17493,
     "status": "ok",
     "timestamp": 1607809179044,
     "user": {
      "displayName": "Yasmine Mejri",
      "photoUrl": "https://lh3.googleusercontent.com/a-/AOh14GitXB9uqeHn9LZHyp1jrvwlOpRiy4F4PmaqGsQu=s64",
      "userId": "13863323571485542434"
     },
     "user_tz": -60
    },
    "id": "M91LTlRW5HN2",
    "outputId": "9e877b89-9dcb-45e6-f8eb-aa8cc8b3acf7"
   },
   "outputs": [
    {
     "name": "stdout",
     "output_type": "stream",
     "text": [
      "Collecting spacy\n",
      "\u001b[?25l  Downloading https://files.pythonhosted.org/packages/e5/bf/ca7bb25edd21f1cf9d498d0023808279672a664a70585e1962617ca2740c/spacy-2.3.5-cp36-cp36m-manylinux2014_x86_64.whl (10.4MB)\n",
      "\u001b[K     |████████████████████████████████| 10.4MB 5.5MB/s \n",
      "\u001b[?25hRequirement already satisfied, skipping upgrade: requests<3.0.0,>=2.13.0 in /usr/local/lib/python3.6/dist-packages (from spacy) (2.23.0)\n",
      "Requirement already satisfied, skipping upgrade: blis<0.8.0,>=0.4.0 in /usr/local/lib/python3.6/dist-packages (from spacy) (0.4.1)\n",
      "Requirement already satisfied, skipping upgrade: murmurhash<1.1.0,>=0.28.0 in /usr/local/lib/python3.6/dist-packages (from spacy) (1.0.5)\n",
      "Requirement already satisfied, skipping upgrade: srsly<1.1.0,>=1.0.2 in /usr/local/lib/python3.6/dist-packages (from spacy) (1.0.5)\n",
      "Collecting thinc<7.5.0,>=7.4.1\n",
      "\u001b[?25l  Downloading https://files.pythonhosted.org/packages/c0/1a/c3e4ab982214c63d743fad57c45c5e68ee49e4ea4384d27b28595a26ad26/thinc-7.4.5-cp36-cp36m-manylinux2014_x86_64.whl (1.1MB)\n",
      "\u001b[K     |████████████████████████████████| 1.1MB 39.5MB/s \n",
      "\u001b[?25hRequirement already satisfied, skipping upgrade: setuptools in /usr/local/lib/python3.6/dist-packages (from spacy) (50.3.2)\n",
      "Requirement already satisfied, skipping upgrade: numpy>=1.15.0 in /usr/local/lib/python3.6/dist-packages (from spacy) (1.18.5)\n",
      "Requirement already satisfied, skipping upgrade: preshed<3.1.0,>=3.0.2 in /usr/local/lib/python3.6/dist-packages (from spacy) (3.0.5)\n",
      "Requirement already satisfied, skipping upgrade: plac<1.2.0,>=0.9.6 in /usr/local/lib/python3.6/dist-packages (from spacy) (1.1.3)\n",
      "Requirement already satisfied, skipping upgrade: cymem<2.1.0,>=2.0.2 in /usr/local/lib/python3.6/dist-packages (from spacy) (2.0.5)\n",
      "Requirement already satisfied, skipping upgrade: wasabi<1.1.0,>=0.4.0 in /usr/local/lib/python3.6/dist-packages (from spacy) (0.8.0)\n",
      "Requirement already satisfied, skipping upgrade: tqdm<5.0.0,>=4.38.0 in /usr/local/lib/python3.6/dist-packages (from spacy) (4.41.1)\n",
      "Requirement already satisfied, skipping upgrade: catalogue<1.1.0,>=0.0.7 in /usr/local/lib/python3.6/dist-packages (from spacy) (1.0.0)\n",
      "Requirement already satisfied, skipping upgrade: chardet<4,>=3.0.2 in /usr/local/lib/python3.6/dist-packages (from requests<3.0.0,>=2.13.0->spacy) (3.0.4)\n",
      "Requirement already satisfied, skipping upgrade: certifi>=2017.4.17 in /usr/local/lib/python3.6/dist-packages (from requests<3.0.0,>=2.13.0->spacy) (2020.12.5)\n",
      "Requirement already satisfied, skipping upgrade: idna<3,>=2.5 in /usr/local/lib/python3.6/dist-packages (from requests<3.0.0,>=2.13.0->spacy) (2.10)\n",
      "Requirement already satisfied, skipping upgrade: urllib3!=1.25.0,!=1.25.1,<1.26,>=1.21.1 in /usr/local/lib/python3.6/dist-packages (from requests<3.0.0,>=2.13.0->spacy) (1.24.3)\n",
      "Requirement already satisfied, skipping upgrade: importlib-metadata>=0.20; python_version < \"3.8\" in /usr/local/lib/python3.6/dist-packages (from catalogue<1.1.0,>=0.0.7->spacy) (3.1.1)\n",
      "Requirement already satisfied, skipping upgrade: zipp>=0.5 in /usr/local/lib/python3.6/dist-packages (from importlib-metadata>=0.20; python_version < \"3.8\"->catalogue<1.1.0,>=0.0.7->spacy) (3.4.0)\n",
      "Installing collected packages: thinc, spacy\n",
      "  Found existing installation: thinc 7.4.0\n",
      "    Uninstalling thinc-7.4.0:\n",
      "      Successfully uninstalled thinc-7.4.0\n",
      "  Found existing installation: spacy 2.2.4\n",
      "    Uninstalling spacy-2.2.4:\n",
      "      Successfully uninstalled spacy-2.2.4\n",
      "Successfully installed spacy-2.3.5 thinc-7.4.5\n",
      "Collecting en_core_web_sm==2.3.1\n",
      "\u001b[?25l  Downloading https://github.com/explosion/spacy-models/releases/download/en_core_web_sm-2.3.1/en_core_web_sm-2.3.1.tar.gz (12.0MB)\n",
      "\u001b[K     |████████████████████████████████| 12.1MB 3.8MB/s \n",
      "\u001b[?25hRequirement already satisfied: spacy<2.4.0,>=2.3.0 in /usr/local/lib/python3.6/dist-packages (from en_core_web_sm==2.3.1) (2.3.5)\n",
      "Requirement already satisfied: murmurhash<1.1.0,>=0.28.0 in /usr/local/lib/python3.6/dist-packages (from spacy<2.4.0,>=2.3.0->en_core_web_sm==2.3.1) (1.0.5)\n",
      "Requirement already satisfied: preshed<3.1.0,>=3.0.2 in /usr/local/lib/python3.6/dist-packages (from spacy<2.4.0,>=2.3.0->en_core_web_sm==2.3.1) (3.0.5)\n",
      "Requirement already satisfied: setuptools in /usr/local/lib/python3.6/dist-packages (from spacy<2.4.0,>=2.3.0->en_core_web_sm==2.3.1) (50.3.2)\n",
      "Requirement already satisfied: plac<1.2.0,>=0.9.6 in /usr/local/lib/python3.6/dist-packages (from spacy<2.4.0,>=2.3.0->en_core_web_sm==2.3.1) (1.1.3)\n",
      "Requirement already satisfied: blis<0.8.0,>=0.4.0 in /usr/local/lib/python3.6/dist-packages (from spacy<2.4.0,>=2.3.0->en_core_web_sm==2.3.1) (0.4.1)\n",
      "Requirement already satisfied: wasabi<1.1.0,>=0.4.0 in /usr/local/lib/python3.6/dist-packages (from spacy<2.4.0,>=2.3.0->en_core_web_sm==2.3.1) (0.8.0)\n",
      "Requirement already satisfied: srsly<1.1.0,>=1.0.2 in /usr/local/lib/python3.6/dist-packages (from spacy<2.4.0,>=2.3.0->en_core_web_sm==2.3.1) (1.0.5)\n",
      "Requirement already satisfied: thinc<7.5.0,>=7.4.1 in /usr/local/lib/python3.6/dist-packages (from spacy<2.4.0,>=2.3.0->en_core_web_sm==2.3.1) (7.4.5)\n",
      "Requirement already satisfied: tqdm<5.0.0,>=4.38.0 in /usr/local/lib/python3.6/dist-packages (from spacy<2.4.0,>=2.3.0->en_core_web_sm==2.3.1) (4.41.1)\n",
      "Requirement already satisfied: catalogue<1.1.0,>=0.0.7 in /usr/local/lib/python3.6/dist-packages (from spacy<2.4.0,>=2.3.0->en_core_web_sm==2.3.1) (1.0.0)\n",
      "Requirement already satisfied: requests<3.0.0,>=2.13.0 in /usr/local/lib/python3.6/dist-packages (from spacy<2.4.0,>=2.3.0->en_core_web_sm==2.3.1) (2.23.0)\n",
      "Requirement already satisfied: numpy>=1.15.0 in /usr/local/lib/python3.6/dist-packages (from spacy<2.4.0,>=2.3.0->en_core_web_sm==2.3.1) (1.18.5)\n",
      "Requirement already satisfied: cymem<2.1.0,>=2.0.2 in /usr/local/lib/python3.6/dist-packages (from spacy<2.4.0,>=2.3.0->en_core_web_sm==2.3.1) (2.0.5)\n",
      "Requirement already satisfied: importlib-metadata>=0.20; python_version < \"3.8\" in /usr/local/lib/python3.6/dist-packages (from catalogue<1.1.0,>=0.0.7->spacy<2.4.0,>=2.3.0->en_core_web_sm==2.3.1) (3.1.1)\n",
      "Requirement already satisfied: urllib3!=1.25.0,!=1.25.1,<1.26,>=1.21.1 in /usr/local/lib/python3.6/dist-packages (from requests<3.0.0,>=2.13.0->spacy<2.4.0,>=2.3.0->en_core_web_sm==2.3.1) (1.24.3)\n",
      "Requirement already satisfied: certifi>=2017.4.17 in /usr/local/lib/python3.6/dist-packages (from requests<3.0.0,>=2.13.0->spacy<2.4.0,>=2.3.0->en_core_web_sm==2.3.1) (2020.12.5)\n",
      "Requirement already satisfied: idna<3,>=2.5 in /usr/local/lib/python3.6/dist-packages (from requests<3.0.0,>=2.13.0->spacy<2.4.0,>=2.3.0->en_core_web_sm==2.3.1) (2.10)\n",
      "Requirement already satisfied: chardet<4,>=3.0.2 in /usr/local/lib/python3.6/dist-packages (from requests<3.0.0,>=2.13.0->spacy<2.4.0,>=2.3.0->en_core_web_sm==2.3.1) (3.0.4)\n",
      "Requirement already satisfied: zipp>=0.5 in /usr/local/lib/python3.6/dist-packages (from importlib-metadata>=0.20; python_version < \"3.8\"->catalogue<1.1.0,>=0.0.7->spacy<2.4.0,>=2.3.0->en_core_web_sm==2.3.1) (3.4.0)\n",
      "Building wheels for collected packages: en-core-web-sm\n",
      "  Building wheel for en-core-web-sm (setup.py) ... \u001b[?25l\u001b[?25hdone\n",
      "  Created wheel for en-core-web-sm: filename=en_core_web_sm-2.3.1-cp36-none-any.whl size=12047110 sha256=64ab494e6e9f69f2d616f731d4df26c136e68746a4b68acbbc4d6f5a17d94d8d\n",
      "  Stored in directory: /tmp/pip-ephem-wheel-cache-j005jb3w/wheels/2b/3f/41/f0b92863355c3ba34bb32b37d8a0c662959da0058202094f46\n",
      "Successfully built en-core-web-sm\n",
      "Installing collected packages: en-core-web-sm\n",
      "  Found existing installation: en-core-web-sm 2.2.5\n",
      "    Uninstalling en-core-web-sm-2.2.5:\n",
      "      Successfully uninstalled en-core-web-sm-2.2.5\n",
      "Successfully installed en-core-web-sm-2.3.1\n",
      "\u001b[38;5;2m✔ Download and installation successful\u001b[0m\n",
      "You can now load the model via spacy.load('en_core_web_sm')\n"
     ]
    }
   ],
   "source": [
    "!pip install -U spacy\n",
    "!python3 -m spacy download en_core_web_sm\n"
   ]
  },
  {
   "cell_type": "code",
   "execution_count": null,
   "metadata": {
    "colab": {
     "base_uri": "https://localhost:8080/"
    },
    "executionInfo": {
     "elapsed": 14645,
     "status": "ok",
     "timestamp": 1607809182269,
     "user": {
      "displayName": "Yasmine Mejri",
      "photoUrl": "https://lh3.googleusercontent.com/a-/AOh14GitXB9uqeHn9LZHyp1jrvwlOpRiy4F4PmaqGsQu=s64",
      "userId": "13863323571485542434"
     },
     "user_tz": -60
    },
    "id": "-0SxO-t_5HN2",
    "outputId": "4f6444ae-7a68-4981-cd41-c7160a1c7d51"
   },
   "outputs": [
    {
     "name": "stdout",
     "output_type": "stream",
     "text": [
      "[nltk_data] Downloading package stopwords to /root/nltk_data...\n",
      "[nltk_data]   Unzipping corpora/stopwords.zip.\n",
      "[nltk_data] Downloading package wordnet to /root/nltk_data...\n",
      "[nltk_data]   Unzipping corpora/wordnet.zip.\n"
     ]
    }
   ],
   "source": [
    "import numpy as np\n",
    "import seaborn as sns\n",
    "import matplotlib.pyplot as plt\n",
    "\n",
    "import tweepy\n",
    "import csv\n",
    "import os\n",
    "import pandas as pd\n",
    "\n",
    "import seaborn as sns\n",
    "import re\n",
    "import spacy\n",
    "from sklearn.model_selection import train_test_split\n",
    "import nltk\n",
    "nltk.download('stopwords')\n",
    "nltk.download('wordnet')\n",
    "from nltk.tokenize import RegexpTokenizer, WhitespaceTokenizer\n",
    "from nltk.stem import WordNetLemmatizer\n",
    "from nltk.corpus import stopwords\n",
    "import string\n",
    "from string import punctuation\n",
    "import collections\n",
    "from collections import Counter\n",
    "from sklearn.feature_extraction.text import CountVectorizer, TfidfVectorizer\n",
    "import en_core_web_sm\n",
    "\n",
    "from sklearn.feature_extraction.text import CountVectorizer, TfidfTransformer\n",
    "from sklearn.metrics.pairwise import cosine_similarity\n",
    "\n",
    "\n",
    "from sklearn.metrics import jaccard_score"
   ]
  },
  {
   "cell_type": "code",
   "execution_count": null,
   "metadata": {
    "colab": {
     "base_uri": "https://localhost:8080/",
     "height": 438
    },
    "executionInfo": {
     "elapsed": 373263,
     "status": "error",
     "timestamp": 1607816864793,
     "user": {
      "displayName": "Yasmine Mejri",
      "photoUrl": "https://lh3.googleusercontent.com/a-/AOh14GitXB9uqeHn9LZHyp1jrvwlOpRiy4F4PmaqGsQu=s64",
      "userId": "13863323571485542434"
     },
     "user_tz": -60
    },
    "id": "9V3e6eft5HN3",
    "outputId": "dc81eeaa-bd1c-4d09-d8cb-79ec0a369d85",
    "scrolled": true
   },
   "outputs": [
    {
     "name": "stderr",
     "output_type": "stream",
     "text": [
      "Rate limit reached. Sleeping for: 853\n"
     ]
    },
    {
     "ename": "NameError",
     "evalue": "ignored",
     "output_type": "error",
     "traceback": [
      "\u001b[0;31m---------------------------------------------------------------------------\u001b[0m",
      "\u001b[0;31mKeyboardInterrupt\u001b[0m                         Traceback (most recent call last)",
      "\u001b[0;32m<ipython-input-70-867d1e7ec5d9>\u001b[0m in \u001b[0;36mwork\u001b[0;34m()\u001b[0m\n\u001b[1;32m    116\u001b[0m         \u001b[0;32mtry\u001b[0m\u001b[0;34m:\u001b[0m\u001b[0;34m\u001b[0m\u001b[0;34m\u001b[0m\u001b[0m\n\u001b[0;32m--> 117\u001b[0;31m             \u001b[0msearch_tweets\u001b[0m\u001b[0;34m(\u001b[0m\u001b[0msearch_words\u001b[0m\u001b[0;34m,\u001b[0m \u001b[0mdate_since\u001b[0m\u001b[0;34m)\u001b[0m\u001b[0;34m\u001b[0m\u001b[0;34m\u001b[0m\u001b[0m\n\u001b[0m\u001b[1;32m    118\u001b[0m \u001b[0;34m\u001b[0m\u001b[0m\n",
      "\u001b[0;32m<ipython-input-70-867d1e7ec5d9>\u001b[0m in \u001b[0;36msearch_tweets\u001b[0;34m(new_search, date_since)\u001b[0m\n\u001b[1;32m     68\u001b[0m                                \u001b[0msince\u001b[0m\u001b[0;34m=\u001b[0m\u001b[0mdate_since\u001b[0m\u001b[0;34m,\u001b[0m\u001b[0;34m\u001b[0m\u001b[0;34m\u001b[0m\u001b[0m\n\u001b[0;32m---> 69\u001b[0;31m                                until=date_until).items(totalTweets)):\n\u001b[0m\u001b[1;32m     70\u001b[0m \u001b[0;34m\u001b[0m\u001b[0m\n",
      "\u001b[0;32m<ipython-input-70-867d1e7ec5d9>\u001b[0m in \u001b[0;36mlimit_handled\u001b[0;34m(cursor)\u001b[0m\n\u001b[1;32m     49\u001b[0m         \u001b[0;32mtry\u001b[0m\u001b[0;34m:\u001b[0m\u001b[0;34m\u001b[0m\u001b[0;34m\u001b[0m\u001b[0m\n\u001b[0;32m---> 50\u001b[0;31m             \u001b[0;32myield\u001b[0m \u001b[0mcursor\u001b[0m\u001b[0;34m.\u001b[0m\u001b[0mnext\u001b[0m\u001b[0;34m(\u001b[0m\u001b[0;34m)\u001b[0m\u001b[0;34m\u001b[0m\u001b[0;34m\u001b[0m\u001b[0m\n\u001b[0m\u001b[1;32m     51\u001b[0m         \u001b[0;32mexcept\u001b[0m \u001b[0mtweepy\u001b[0m\u001b[0;34m.\u001b[0m\u001b[0mRateLimitError\u001b[0m\u001b[0;34m:\u001b[0m\u001b[0;34m\u001b[0m\u001b[0;34m\u001b[0m\u001b[0m\n",
      "\u001b[0;32m/usr/local/lib/python3.6/dist-packages/tweepy/cursor.py\u001b[0m in \u001b[0;36mnext\u001b[0;34m(self)\u001b[0m\n\u001b[1;32m    196\u001b[0m             \u001b[0;31m# Reached end of current page, get the next page...\u001b[0m\u001b[0;34m\u001b[0m\u001b[0;34m\u001b[0m\u001b[0;34m\u001b[0m\u001b[0m\n\u001b[0;32m--> 197\u001b[0;31m             \u001b[0mself\u001b[0m\u001b[0;34m.\u001b[0m\u001b[0mcurrent_page\u001b[0m \u001b[0;34m=\u001b[0m \u001b[0mself\u001b[0m\u001b[0;34m.\u001b[0m\u001b[0mpage_iterator\u001b[0m\u001b[0;34m.\u001b[0m\u001b[0mnext\u001b[0m\u001b[0;34m(\u001b[0m\u001b[0;34m)\u001b[0m\u001b[0;34m\u001b[0m\u001b[0;34m\u001b[0m\u001b[0m\n\u001b[0m\u001b[1;32m    198\u001b[0m             \u001b[0mself\u001b[0m\u001b[0;34m.\u001b[0m\u001b[0mpage_index\u001b[0m \u001b[0;34m=\u001b[0m \u001b[0;34m-\u001b[0m\u001b[0;36m1\u001b[0m\u001b[0;34m\u001b[0m\u001b[0;34m\u001b[0m\u001b[0m\n",
      "\u001b[0;32m/usr/local/lib/python3.6/dist-packages/tweepy/cursor.py\u001b[0m in \u001b[0;36mnext\u001b[0;34m(self)\u001b[0m\n\u001b[1;32m    107\u001b[0m         \u001b[0;32mif\u001b[0m \u001b[0mself\u001b[0m\u001b[0;34m.\u001b[0m\u001b[0mindex\u001b[0m \u001b[0;34m>=\u001b[0m \u001b[0mlen\u001b[0m\u001b[0;34m(\u001b[0m\u001b[0mself\u001b[0m\u001b[0;34m.\u001b[0m\u001b[0mresults\u001b[0m\u001b[0;34m)\u001b[0m \u001b[0;34m-\u001b[0m \u001b[0;36m1\u001b[0m\u001b[0;34m:\u001b[0m\u001b[0;34m\u001b[0m\u001b[0;34m\u001b[0m\u001b[0m\n\u001b[0;32m--> 108\u001b[0;31m             \u001b[0mdata\u001b[0m \u001b[0;34m=\u001b[0m \u001b[0mself\u001b[0m\u001b[0;34m.\u001b[0m\u001b[0mmethod\u001b[0m\u001b[0;34m(\u001b[0m\u001b[0mmax_id\u001b[0m\u001b[0;34m=\u001b[0m\u001b[0mself\u001b[0m\u001b[0;34m.\u001b[0m\u001b[0mmax_id\u001b[0m\u001b[0;34m,\u001b[0m \u001b[0mparser\u001b[0m\u001b[0;34m=\u001b[0m\u001b[0mRawParser\u001b[0m\u001b[0;34m(\u001b[0m\u001b[0;34m)\u001b[0m\u001b[0;34m,\u001b[0m \u001b[0;34m*\u001b[0m\u001b[0mself\u001b[0m\u001b[0;34m.\u001b[0m\u001b[0margs\u001b[0m\u001b[0;34m,\u001b[0m \u001b[0;34m**\u001b[0m\u001b[0mself\u001b[0m\u001b[0;34m.\u001b[0m\u001b[0mkargs\u001b[0m\u001b[0;34m)\u001b[0m\u001b[0;34m\u001b[0m\u001b[0;34m\u001b[0m\u001b[0m\n\u001b[0m\u001b[1;32m    109\u001b[0m \u001b[0;34m\u001b[0m\u001b[0m\n",
      "\u001b[0;32m/usr/local/lib/python3.6/dist-packages/tweepy/binder.py\u001b[0m in \u001b[0;36m_call\u001b[0;34m(*args, **kwargs)\u001b[0m\n\u001b[1;32m    249\u001b[0m         \u001b[0;32melse\u001b[0m\u001b[0;34m:\u001b[0m\u001b[0;34m\u001b[0m\u001b[0;34m\u001b[0m\u001b[0m\n\u001b[0;32m--> 250\u001b[0;31m             \u001b[0;32mreturn\u001b[0m \u001b[0mmethod\u001b[0m\u001b[0;34m.\u001b[0m\u001b[0mexecute\u001b[0m\u001b[0;34m(\u001b[0m\u001b[0;34m)\u001b[0m\u001b[0;34m\u001b[0m\u001b[0;34m\u001b[0m\u001b[0m\n\u001b[0m\u001b[1;32m    251\u001b[0m \u001b[0;34m\u001b[0m\u001b[0m\n",
      "\u001b[0;32m/usr/local/lib/python3.6/dist-packages/tweepy/binder.py\u001b[0m in \u001b[0;36mexecute\u001b[0;34m(self)\u001b[0m\n\u001b[1;32m    163\u001b[0m                                         \u001b[0mlog\u001b[0m\u001b[0;34m.\u001b[0m\u001b[0mwarning\u001b[0m\u001b[0;34m(\u001b[0m\u001b[0;34m\"Rate limit reached. Sleeping for: %d\"\u001b[0m \u001b[0;34m%\u001b[0m \u001b[0msleep_time\u001b[0m\u001b[0;34m)\u001b[0m\u001b[0;34m\u001b[0m\u001b[0;34m\u001b[0m\u001b[0m\n\u001b[0;32m--> 164\u001b[0;31m                                     \u001b[0mtime\u001b[0m\u001b[0;34m.\u001b[0m\u001b[0msleep\u001b[0m\u001b[0;34m(\u001b[0m\u001b[0msleep_time\u001b[0m \u001b[0;34m+\u001b[0m \u001b[0;36m5\u001b[0m\u001b[0;34m)\u001b[0m  \u001b[0;31m# sleep for few extra sec\u001b[0m\u001b[0;34m\u001b[0m\u001b[0;34m\u001b[0m\u001b[0m\n\u001b[0m\u001b[1;32m    165\u001b[0m \u001b[0;34m\u001b[0m\u001b[0m\n",
      "\u001b[0;31mKeyboardInterrupt\u001b[0m: ",
      "\nDuring handling of the above exception, another exception occurred:\n",
      "\u001b[0;31mNameError\u001b[0m                                 Traceback (most recent call last)",
      "\u001b[0;32m<ipython-input-70-867d1e7ec5d9>\u001b[0m in \u001b[0;36m<module>\u001b[0;34m()\u001b[0m\n\u001b[1;32m    148\u001b[0m \u001b[0;32mif\u001b[0m \u001b[0m__name__\u001b[0m \u001b[0;34m==\u001b[0m \u001b[0;34m'__main__'\u001b[0m\u001b[0;34m:\u001b[0m\u001b[0;34m\u001b[0m\u001b[0;34m\u001b[0m\u001b[0m\n\u001b[1;32m    149\u001b[0m \u001b[0;34m\u001b[0m\u001b[0m\n\u001b[0;32m--> 150\u001b[0;31m     \u001b[0mwork\u001b[0m\u001b[0;34m(\u001b[0m\u001b[0;34m)\u001b[0m\u001b[0;34m\u001b[0m\u001b[0;34m\u001b[0m\u001b[0m\n\u001b[0m",
      "\u001b[0;32m<ipython-input-70-867d1e7ec5d9>\u001b[0m in \u001b[0;36mwork\u001b[0;34m()\u001b[0m\n\u001b[1;32m    124\u001b[0m \u001b[0;34m\u001b[0m\u001b[0m\n\u001b[1;32m    125\u001b[0m         \u001b[0;31m# Stop temporarily when getting a timeout or connection error\u001b[0m\u001b[0;34m\u001b[0m\u001b[0;34m\u001b[0m\u001b[0;34m\u001b[0m\u001b[0m\n\u001b[0;32m--> 126\u001b[0;31m         except (Timeout, ssl.SSLError, ReadTimeoutError,\n\u001b[0m\u001b[1;32m    127\u001b[0m                 ConnectionError) as exc:\n\u001b[1;32m    128\u001b[0m             \u001b[0mprint\u001b[0m\u001b[0;34m(\u001b[0m\u001b[0;34m\"Timeout/connection error...waiting ~15 minutes to continue\"\u001b[0m\u001b[0;34m)\u001b[0m\u001b[0;34m\u001b[0m\u001b[0;34m\u001b[0m\u001b[0m\n",
      "\u001b[0;31mNameError\u001b[0m: name 'Timeout' is not defined"
     ]
    }
   ],
   "source": [
    "# Add your Twitter API credentials\n",
    "consumer_key = \"iuoxy4jNIgJg3hd9MMjOjMqNs\" \n",
    "consumer_secret = \"6inhY4mQw9tp08xP7iTihVYj1wMtA2rAW3vCf6pxK2JLQHLN3r\"\n",
    "access_key = \"1015771879-TZ3kFtK5m8Nt0OZThTOcsYkUDu206QaXdZfFdhb\"\n",
    "access_secret = \"pMO7jAszm1oqCGwJfHVHnZpFnaDkPHWijfKZlP99opzDY\"\n",
    "\n",
    "# Handling authentication with Twitter\n",
    "auth = tweepy.OAuthHandler(consumer_key, consumer_secret)\n",
    "auth.set_access_token(access_key, access_secret)\n",
    "\n",
    "# Create a wrapper for the API provided by Twitter\n",
    "api = tweepy.API(auth, wait_on_rate_limit=True, wait_on_rate_limit_notify=True)\n",
    "\n",
    "# Define the search term to make the search\n",
    "search_words = \"#\"\n",
    "# Exclude retweets in our search\n",
    "new_search = search_words + \" -filter:retweets\"\n",
    "\n",
    "date_since = \"2020-12-8\"\n",
    "\n",
    "# Define until what date we are looking for tweets\n",
    "date_until = \"\"\n",
    "\n",
    "# Total tweets to gather in our search\n",
    "totalTweets = 100000\n",
    "\n",
    "# Numbers of tweets to return per page, max is 100. Default is 15.\n",
    "count = 100\n",
    "\n",
    "# Filter by language\n",
    "lang = \"en\"\n",
    "\n",
    "geocode = \"\"\n",
    "\n",
    "# Filter by recent, popular or mixed.\n",
    "result_type = \"recent\"\n",
    "\n",
    "'''Include info on entities found in Tweets, including hashtags,\n",
    "links, and mentions. Set to True or False'''\n",
    "include_entities = True\n",
    "\n",
    "# Set the name for CSV file  where the tweets will be saved\n",
    "filename = \"Twitter\"\n",
    "\n",
    "\n",
    "# Function for handling pagination in our search\n",
    "def limit_handled(cursor):\n",
    "    while True:\n",
    "        try:\n",
    "            yield cursor.next()\n",
    "        except tweepy.RateLimitError:\n",
    "            print('Reached rate limite. Sleeping for >15 minutes')\n",
    "            time.sleep(15 * 61)\n",
    "\n",
    "\n",
    "# Function for make the search using Twitter API\n",
    "def search_tweets(new_search, date_since):\n",
    "\n",
    "    # performs the search using the defined variables\n",
    "    for tweet in limit_handled(tweepy.Cursor(api.search,\n",
    "                               q=new_search,\n",
    "                               count=count,\n",
    "                               tweet_mode='extended',\n",
    "                               lang=lang,\n",
    "                               geocode=geocode,\n",
    "                               result_type=result_type,\n",
    "                               include_entities=include_entities,\n",
    "                               since=date_since,\n",
    "                               until=date_until).items(totalTweets)):\n",
    "\n",
    "        try:\n",
    "\n",
    "            # Checks if its a extended tweet (>140 characters)\n",
    "            content = tweet.full_text\n",
    "\n",
    "            '''Convert all named and numeric character references\n",
    "            (e.g. &gt;, &#62;, &#x3e;) in the string s to the\n",
    "            corresponding Unicode characters'''\n",
    "            content = (content.replace('&amp;', '&').replace('&lt;', '<')\n",
    "                       .replace('&gt;', '>').replace('&quot;', '\"')\n",
    "                       .replace('&#39;', \"'\").replace(';', \" \")\n",
    "                       .replace(r'\\u', \" \").replace('\\u2026', \"\"))\n",
    "\n",
    "            # Save other information from the tweet\n",
    "            user = tweet.author.screen_name\n",
    "            timeTweet = tweet.created_at\n",
    "            source = tweet.source\n",
    "            tweetId = tweet.id\n",
    "            tweetUrl = \"https://twitter.com/statuses/\" + str(tweetId)\n",
    "\n",
    "            # Exclude retweets, too many mentions and too many hashtags\n",
    "            if not any((('RT @' in content, 'RT' in content,\n",
    "                       content.count('@') >= 2, content.count('#') >= 3))):\n",
    "\n",
    "                # Saves the tweet information in a new row of the CSV file\n",
    "                writer.writerow([content, timeTweet,\n",
    "                                user, source, tweetId, tweetUrl])\n",
    "\n",
    "        except Exception as e:\n",
    "            print('Encountered Exception:', e)\n",
    "            pass\n",
    "\n",
    "\n",
    "def work():\n",
    "\n",
    "    # Opening a CSV file to save the gathered tweets\n",
    "    with open(filename+\".csv\", 'w') as file:\n",
    "        global writer\n",
    "        writer = csv.writer(file)\n",
    "\n",
    "        # Add a header row to the CSV\n",
    "        writer.writerow([\"Contenu_\", \"Date_\", \"Utilisateur_\",\n",
    "                         \"Source_\", \"ID_\", \"Tweet URL\"])\n",
    "\n",
    "        # Initializing the Twitter search\n",
    "        try:\n",
    "            search_tweets(search_words, date_since)\n",
    "\n",
    "        # Stop temporarily when hitting Twitter rate Limit\n",
    "        except tweepy.RateLimitError:\n",
    "            print(\"RateLimitError...waiting ~15 minutes to continue\")\n",
    "            time.sleep(1001)\n",
    "            search_tweets(search_words, date_since)\n",
    "\n",
    "        # Stop temporarily when getting a timeout or connection error\n",
    "        except (Timeout, ssl.SSLError, ReadTimeoutError,\n",
    "                ConnectionError) as exc:\n",
    "            print(\"Timeout/connection error...waiting ~15 minutes to continue\")\n",
    "            time.sleep(1001)\n",
    "            search_tweets(search_words, date_since)\n",
    "\n",
    "        # Stop temporarily when getting other errors\n",
    "        except tweepy.TweepError as e:\n",
    "            if 'Failed to send request:' in e.reason:\n",
    "                print(\"Time out error caught.\")\n",
    "                time.sleep(1001)\n",
    "                search_tweets(search_words, date_since)\n",
    "            elif'Too Many Requests' in e.reason:\n",
    "                print(\"Too many requests, sleeping for 15 min\")\n",
    "                time.sleep(1001)\n",
    "                search_tweets(search_words, date_since)\n",
    "            else:\n",
    "                print(e)\n",
    "                print(\"Other error with this user...passing\")\n",
    "                pass\n",
    "\n",
    "\n",
    "if __name__ == '__main__':\n",
    "\n",
    "    work()"
   ]
  },
  {
   "cell_type": "code",
   "execution_count": 97,
   "metadata": {
    "id": "MVIKB8qB5HN3"
   },
   "outputs": [],
   "source": [
    "import pandas as pd"
   ]
  },
  {
   "cell_type": "code",
   "execution_count": 98,
   "metadata": {
    "id": "oqD3sclp5HN4"
   },
   "outputs": [],
   "source": [
    " df = pd.read_csv('Twitter.csv')"
   ]
  },
  {
   "cell_type": "code",
   "execution_count": 99,
   "metadata": {
    "colab": {
     "base_uri": "https://localhost:8080/"
    },
    "executionInfo": {
     "elapsed": 786,
     "status": "ok",
     "timestamp": 1607816886086,
     "user": {
      "displayName": "Yasmine Mejri",
      "photoUrl": "https://lh3.googleusercontent.com/a-/AOh14GitXB9uqeHn9LZHyp1jrvwlOpRiy4F4PmaqGsQu=s64",
      "userId": "13863323571485542434"
     },
     "user_tz": -60
    },
    "id": "JZ_k7NiE5HN4",
    "outputId": "bb3076b8-1f23-4953-d572-87783fcc0c66"
   },
   "outputs": [
    {
     "name": "stdout",
     "output_type": "stream",
     "text": [
      "<class 'pandas.core.frame.DataFrame'>\n",
      "RangeIndex: 7759 entries, 0 to 7758\n",
      "Data columns (total 6 columns):\n",
      " #   Column        Non-Null Count  Dtype \n",
      "---  ------        --------------  ----- \n",
      " 0   Contenu_      7759 non-null   object\n",
      " 1   Date_         7759 non-null   object\n",
      " 2   Utilisateur_  7759 non-null   object\n",
      " 3   Source_       7756 non-null   object\n",
      " 4   ID_           7759 non-null   int64 \n",
      " 5   Tweet URL     7759 non-null   object\n",
      "dtypes: int64(1), object(5)\n",
      "memory usage: 363.8+ KB\n"
     ]
    }
   ],
   "source": [
    "df.info()\n"
   ]
  },
  {
   "cell_type": "code",
   "execution_count": 100,
   "metadata": {
    "colab": {
     "base_uri": "https://localhost:8080/",
     "height": 570
    },
    "executionInfo": {
     "elapsed": 773,
     "status": "ok",
     "timestamp": 1607816892232,
     "user": {
      "displayName": "Yasmine Mejri",
      "photoUrl": "https://lh3.googleusercontent.com/a-/AOh14GitXB9uqeHn9LZHyp1jrvwlOpRiy4F4PmaqGsQu=s64",
      "userId": "13863323571485542434"
     },
     "user_tz": -60
    },
    "id": "o_fMhxC-5HN5",
    "outputId": "bf8ccf1c-ed60-4f7e-ffd9-6008c07ccbd2"
   },
   "outputs": [
    {
     "data": {
      "text/html": [
       "<div>\n",
       "<style scoped>\n",
       "    .dataframe tbody tr th:only-of-type {\n",
       "        vertical-align: middle;\n",
       "    }\n",
       "\n",
       "    .dataframe tbody tr th {\n",
       "        vertical-align: top;\n",
       "    }\n",
       "\n",
       "    .dataframe thead th {\n",
       "        text-align: right;\n",
       "    }\n",
       "</style>\n",
       "<table border=\"1\" class=\"dataframe\">\n",
       "  <thead>\n",
       "    <tr style=\"text-align: right;\">\n",
       "      <th></th>\n",
       "      <th>Contenu_</th>\n",
       "      <th>Date_</th>\n",
       "      <th>Utilisateur_</th>\n",
       "      <th>Source_</th>\n",
       "      <th>ID_</th>\n",
       "      <th>Tweet URL</th>\n",
       "    </tr>\n",
       "  </thead>\n",
       "  <tbody>\n",
       "    <tr>\n",
       "      <th>0</th>\n",
       "      <td>Go like https://t.co/FSIdbJjvrc</td>\n",
       "      <td>2020-12-16 07:51:18</td>\n",
       "      <td>LabronSmith4</td>\n",
       "      <td>Twitter for iPhone</td>\n",
       "      <td>1339115875643875329</td>\n",
       "      <td>https://twitter.com/statuses/1339115875643875329</td>\n",
       "    </tr>\n",
       "    <tr>\n",
       "      <th>1</th>\n",
       "      <td>@fuckgogy i will listen to that song till the ...</td>\n",
       "      <td>2020-12-16 07:51:18</td>\n",
       "      <td>jeonoyas</td>\n",
       "      <td>Twitter for iPhone</td>\n",
       "      <td>1339115875358498818</td>\n",
       "      <td>https://twitter.com/statuses/1339115875358498818</td>\n",
       "    </tr>\n",
       "    <tr>\n",
       "      <th>2</th>\n",
       "      <td>@tartqglia ikkk i want to see more of her 🥺 sh...</td>\n",
       "      <td>2020-12-16 07:51:18</td>\n",
       "      <td>analovesbsd</td>\n",
       "      <td>Twitter for iPhone</td>\n",
       "      <td>1339115875354501121</td>\n",
       "      <td>https://twitter.com/statuses/1339115875354501121</td>\n",
       "    </tr>\n",
       "    <tr>\n",
       "      <th>3</th>\n",
       "      <td>@Faminu_ You knw what i am talking about 😂</td>\n",
       "      <td>2020-12-16 07:51:18</td>\n",
       "      <td>zikirillahi</td>\n",
       "      <td>Twitter for iPhone</td>\n",
       "      <td>1339115875090063362</td>\n",
       "      <td>https://twitter.com/statuses/1339115875090063362</td>\n",
       "    </tr>\n",
       "    <tr>\n",
       "      <th>4</th>\n",
       "      <td>what lmAO PLS 😭\\n https://t.co/9a8wSceqRD</td>\n",
       "      <td>2020-12-16 07:51:18</td>\n",
       "      <td>woozzcart</td>\n",
       "      <td>Twitter for iPad</td>\n",
       "      <td>1339115875027230720</td>\n",
       "      <td>https://twitter.com/statuses/1339115875027230720</td>\n",
       "    </tr>\n",
       "    <tr>\n",
       "      <th>...</th>\n",
       "      <td>...</td>\n",
       "      <td>...</td>\n",
       "      <td>...</td>\n",
       "      <td>...</td>\n",
       "      <td>...</td>\n",
       "      <td>...</td>\n",
       "    </tr>\n",
       "    <tr>\n",
       "      <th>995</th>\n",
       "      <td>It’s like my whole life led me to you</td>\n",
       "      <td>2020-12-16 07:51:15</td>\n",
       "      <td>kenxjones</td>\n",
       "      <td>Twitter for iPhone</td>\n",
       "      <td>1339115862595256320</td>\n",
       "      <td>https://twitter.com/statuses/1339115862595256320</td>\n",
       "    </tr>\n",
       "    <tr>\n",
       "      <th>996</th>\n",
       "      <td>this feels racist💀✋🏽 https://t.co/TWaQVkjCHG</td>\n",
       "      <td>2020-12-16 07:51:15</td>\n",
       "      <td>hidden_ahgase</td>\n",
       "      <td>Twitter for Android</td>\n",
       "      <td>1339115862591229959</td>\n",
       "      <td>https://twitter.com/statuses/1339115862591229959</td>\n",
       "    </tr>\n",
       "    <tr>\n",
       "      <th>997</th>\n",
       "      <td>@nct_menfess join the chat</td>\n",
       "      <td>2020-12-16 07:51:15</td>\n",
       "      <td>bygyulie</td>\n",
       "      <td>Twitter for Android</td>\n",
       "      <td>1339115862578450432</td>\n",
       "      <td>https://twitter.com/statuses/1339115862578450432</td>\n",
       "    </tr>\n",
       "    <tr>\n",
       "      <th>998</th>\n",
       "      <td>@HANBIN_twt_ hubii ? , i miss u so much 🥺</td>\n",
       "      <td>2020-12-16 07:51:15</td>\n",
       "      <td>syipazaa</td>\n",
       "      <td>Twitter for Android</td>\n",
       "      <td>1339115862565953536</td>\n",
       "      <td>https://twitter.com/statuses/1339115862565953536</td>\n",
       "    </tr>\n",
       "    <tr>\n",
       "      <th>999</th>\n",
       "      <td>NEVERRRR 😭😭 https://t.co/VhhpvUgsqr</td>\n",
       "      <td>2020-12-16 07:51:15</td>\n",
       "      <td>pjmairaaa</td>\n",
       "      <td>Twitter for Android</td>\n",
       "      <td>1339115862553313280</td>\n",
       "      <td>https://twitter.com/statuses/1339115862553313280</td>\n",
       "    </tr>\n",
       "  </tbody>\n",
       "</table>\n",
       "<p>1000 rows × 6 columns</p>\n",
       "</div>"
      ],
      "text/plain": [
       "                                              Contenu_                Date_  \\\n",
       "0                      Go like https://t.co/FSIdbJjvrc  2020-12-16 07:51:18   \n",
       "1    @fuckgogy i will listen to that song till the ...  2020-12-16 07:51:18   \n",
       "2    @tartqglia ikkk i want to see more of her 🥺 sh...  2020-12-16 07:51:18   \n",
       "3           @Faminu_ You knw what i am talking about 😂  2020-12-16 07:51:18   \n",
       "4            what lmAO PLS 😭\\n https://t.co/9a8wSceqRD  2020-12-16 07:51:18   \n",
       "..                                                 ...                  ...   \n",
       "995              It’s like my whole life led me to you  2020-12-16 07:51:15   \n",
       "996       this feels racist💀✋🏽 https://t.co/TWaQVkjCHG  2020-12-16 07:51:15   \n",
       "997                         @nct_menfess join the chat  2020-12-16 07:51:15   \n",
       "998          @HANBIN_twt_ hubii ? , i miss u so much 🥺  2020-12-16 07:51:15   \n",
       "999                NEVERRRR 😭😭 https://t.co/VhhpvUgsqr  2020-12-16 07:51:15   \n",
       "\n",
       "      Utilisateur_              Source_                  ID_  \\\n",
       "0     LabronSmith4   Twitter for iPhone  1339115875643875329   \n",
       "1         jeonoyas   Twitter for iPhone  1339115875358498818   \n",
       "2      analovesbsd   Twitter for iPhone  1339115875354501121   \n",
       "3      zikirillahi   Twitter for iPhone  1339115875090063362   \n",
       "4        woozzcart     Twitter for iPad  1339115875027230720   \n",
       "..             ...                  ...                  ...   \n",
       "995      kenxjones   Twitter for iPhone  1339115862595256320   \n",
       "996  hidden_ahgase  Twitter for Android  1339115862591229959   \n",
       "997       bygyulie  Twitter for Android  1339115862578450432   \n",
       "998       syipazaa  Twitter for Android  1339115862565953536   \n",
       "999      pjmairaaa  Twitter for Android  1339115862553313280   \n",
       "\n",
       "                                            Tweet URL  \n",
       "0    https://twitter.com/statuses/1339115875643875329  \n",
       "1    https://twitter.com/statuses/1339115875358498818  \n",
       "2    https://twitter.com/statuses/1339115875354501121  \n",
       "3    https://twitter.com/statuses/1339115875090063362  \n",
       "4    https://twitter.com/statuses/1339115875027230720  \n",
       "..                                                ...  \n",
       "995  https://twitter.com/statuses/1339115862595256320  \n",
       "996  https://twitter.com/statuses/1339115862591229959  \n",
       "997  https://twitter.com/statuses/1339115862578450432  \n",
       "998  https://twitter.com/statuses/1339115862565953536  \n",
       "999  https://twitter.com/statuses/1339115862553313280  \n",
       "\n",
       "[1000 rows x 6 columns]"
      ]
     },
     "execution_count": 100,
     "metadata": {},
     "output_type": "execute_result"
    }
   ],
   "source": [
    "df.head(1000)\n"
   ]
  },
  {
   "cell_type": "code",
   "execution_count": 76,
   "metadata": {},
   "outputs": [
    {
     "data": {
      "text/plain": [
       "(7759, 6)"
      ]
     },
     "execution_count": 76,
     "metadata": {},
     "output_type": "execute_result"
    }
   ],
   "source": [
    "df.shape"
   ]
  },
  {
   "cell_type": "code",
   "execution_count": 77,
   "metadata": {
    "id": "DblN4ruwBIXx"
   },
   "outputs": [],
   "source": [
    "df.drop_duplicates(subset='Contenu_',inplace=True)"
   ]
  },
  {
   "cell_type": "code",
   "execution_count": 101,
   "metadata": {},
   "outputs": [
    {
     "name": "stdout",
     "output_type": "stream",
     "text": [
      "<class 'pandas.core.frame.DataFrame'>\n",
      "Int64Index: 7759 entries, 0 to 7758\n",
      "Data columns (total 6 columns):\n",
      " #   Column        Non-Null Count  Dtype \n",
      "---  ------        --------------  ----- \n",
      " 0   Contenu_      7759 non-null   object\n",
      " 1   Date_         7759 non-null   object\n",
      " 2   Utilisateur_  7759 non-null   object\n",
      " 3   Source_       7756 non-null   object\n",
      " 4   ID_           7759 non-null   int64 \n",
      " 5   Tweet URL     7759 non-null   object\n",
      "dtypes: int64(1), object(5)\n",
      "memory usage: 424.3+ KB\n"
     ]
    }
   ],
   "source": [
    "#First replace all the empty rows with NAN value \n",
    "df['Contenu_'].replace('', np.nan, inplace=True)\n",
    "#Then we drop those rows\n",
    "df.dropna(subset=['Contenu_'], inplace=True)\n",
    "df.info()"
   ]
  },
  {
   "cell_type": "code",
   "execution_count": 102,
   "metadata": {},
   "outputs": [
    {
     "data": {
      "text/plain": [
       "(7759, 6)"
      ]
     },
     "execution_count": 102,
     "metadata": {},
     "output_type": "execute_result"
    }
   ],
   "source": [
    "df.shape"
   ]
  },
  {
   "cell_type": "code",
   "execution_count": 103,
   "metadata": {
    "colab": {
     "base_uri": "https://localhost:8080/"
    },
    "executionInfo": {
     "elapsed": 761,
     "status": "ok",
     "timestamp": 1607816925204,
     "user": {
      "displayName": "Yasmine Mejri",
      "photoUrl": "https://lh3.googleusercontent.com/a-/AOh14GitXB9uqeHn9LZHyp1jrvwlOpRiy4F4PmaqGsQu=s64",
      "userId": "13863323571485542434"
     },
     "user_tz": -60
    },
    "id": "qd1vTitfBE2x",
    "outputId": "50095b8a-4cc5-4b45-c693-7736d0d50339"
   },
   "outputs": [
    {
     "data": {
      "text/html": [
       "<div>\n",
       "<style scoped>\n",
       "    .dataframe tbody tr th:only-of-type {\n",
       "        vertical-align: middle;\n",
       "    }\n",
       "\n",
       "    .dataframe tbody tr th {\n",
       "        vertical-align: top;\n",
       "    }\n",
       "\n",
       "    .dataframe thead th {\n",
       "        text-align: right;\n",
       "    }\n",
       "</style>\n",
       "<table border=\"1\" class=\"dataframe\">\n",
       "  <thead>\n",
       "    <tr style=\"text-align: right;\">\n",
       "      <th></th>\n",
       "      <th>Contenu_</th>\n",
       "      <th>Date_</th>\n",
       "      <th>ID_</th>\n",
       "    </tr>\n",
       "  </thead>\n",
       "  <tbody>\n",
       "    <tr>\n",
       "      <th>0</th>\n",
       "      <td>Go like https://t.co/FSIdbJjvrc</td>\n",
       "      <td>2020-12-16 07:51:18</td>\n",
       "      <td>1339115875643875329</td>\n",
       "    </tr>\n",
       "    <tr>\n",
       "      <th>1</th>\n",
       "      <td>@fuckgogy i will listen to that song till the ...</td>\n",
       "      <td>2020-12-16 07:51:18</td>\n",
       "      <td>1339115875358498818</td>\n",
       "    </tr>\n",
       "    <tr>\n",
       "      <th>2</th>\n",
       "      <td>@tartqglia ikkk i want to see more of her 🥺 sh...</td>\n",
       "      <td>2020-12-16 07:51:18</td>\n",
       "      <td>1339115875354501121</td>\n",
       "    </tr>\n",
       "    <tr>\n",
       "      <th>3</th>\n",
       "      <td>@Faminu_ You knw what i am talking about 😂</td>\n",
       "      <td>2020-12-16 07:51:18</td>\n",
       "      <td>1339115875090063362</td>\n",
       "    </tr>\n",
       "    <tr>\n",
       "      <th>4</th>\n",
       "      <td>what lmAO PLS 😭\\n https://t.co/9a8wSceqRD</td>\n",
       "      <td>2020-12-16 07:51:18</td>\n",
       "      <td>1339115875027230720</td>\n",
       "    </tr>\n",
       "  </tbody>\n",
       "</table>\n",
       "</div>"
      ],
      "text/plain": [
       "                                            Contenu_                Date_  \\\n",
       "0                    Go like https://t.co/FSIdbJjvrc  2020-12-16 07:51:18   \n",
       "1  @fuckgogy i will listen to that song till the ...  2020-12-16 07:51:18   \n",
       "2  @tartqglia ikkk i want to see more of her 🥺 sh...  2020-12-16 07:51:18   \n",
       "3         @Faminu_ You knw what i am talking about 😂  2020-12-16 07:51:18   \n",
       "4          what lmAO PLS 😭\\n https://t.co/9a8wSceqRD  2020-12-16 07:51:18   \n",
       "\n",
       "                   ID_  \n",
       "0  1339115875643875329  \n",
       "1  1339115875358498818  \n",
       "2  1339115875354501121  \n",
       "3  1339115875090063362  \n",
       "4  1339115875027230720  "
      ]
     },
     "execution_count": 103,
     "metadata": {},
     "output_type": "execute_result"
    }
   ],
   "source": [
    "df = pd.DataFrame(tweet_df[['Contenu_', 'Date_','ID_' ]])\n",
    "df.head()"
   ]
  },
  {
   "cell_type": "code",
   "execution_count": 104,
   "metadata": {},
   "outputs": [
    {
     "data": {
      "text/plain": [
       "(4651, 3)"
      ]
     },
     "execution_count": 104,
     "metadata": {},
     "output_type": "execute_result"
    }
   ],
   "source": [
    "df.shape\n"
   ]
  },
  {
   "cell_type": "code",
   "execution_count": 105,
   "metadata": {},
   "outputs": [
    {
     "name": "stdout",
     "output_type": "stream",
     "text": [
      "<class 'pandas.core.frame.DataFrame'>\n",
      "RangeIndex: 4651 entries, 0 to 4650\n",
      "Data columns (total 3 columns):\n",
      " #   Column    Non-Null Count  Dtype \n",
      "---  ------    --------------  ----- \n",
      " 0   Contenu_  4651 non-null   object\n",
      " 1   Date_     4651 non-null   object\n",
      " 2   ID_       4651 non-null   int64 \n",
      "dtypes: int64(1), object(2)\n",
      "memory usage: 109.1+ KB\n"
     ]
    }
   ],
   "source": [
    "df.info()"
   ]
  },
  {
   "cell_type": "markdown",
   "metadata": {
    "id": "7LrRFDZy8hMb"
   },
   "source": [
    " Tweets Preprocessing and Cleaning\n"
   ]
  },
  {
   "cell_type": "code",
   "execution_count": 106,
   "metadata": {
    "id": "bDyFDx6K8eTr"
   },
   "outputs": [],
   "source": [
    "import re"
   ]
  },
  {
   "cell_type": "markdown",
   "metadata": {
    "id": "rYZPS5N09Ij8"
   },
   "source": [
    " Removing Twitter Handles (@user)"
   ]
  },
  {
   "cell_type": "code",
   "execution_count": 107,
   "metadata": {
    "id": "i2SlR5n28ufH"
   },
   "outputs": [],
   "source": [
    "def remove_pattern(input_txt, pattern):\n",
    "    r = re.findall(pattern, input_txt)\n",
    "    for i in r:\n",
    "        input_txt = re.sub(i, '', input_txt)\n",
    "        \n",
    "    return input_txt "
   ]
  },
  {
   "cell_type": "code",
   "execution_count": 108,
   "metadata": {
    "colab": {
     "base_uri": "https://localhost:8080/",
     "height": 738
    },
    "executionInfo": {
     "elapsed": 1100,
     "status": "ok",
     "timestamp": 1607818893658,
     "user": {
      "displayName": "Yasmine Mejri",
      "photoUrl": "https://lh3.googleusercontent.com/a-/AOh14GitXB9uqeHn9LZHyp1jrvwlOpRiy4F4PmaqGsQu=s64",
      "userId": "13863323571485542434"
     },
     "user_tz": -60
    },
    "id": "lHyoVjkJ9OnH",
    "outputId": "36dbb660-3489-4fee-b240-7bc7565a6b91"
   },
   "outputs": [
    {
     "data": {
      "text/html": [
       "<div>\n",
       "<style scoped>\n",
       "    .dataframe tbody tr th:only-of-type {\n",
       "        vertical-align: middle;\n",
       "    }\n",
       "\n",
       "    .dataframe tbody tr th {\n",
       "        vertical-align: top;\n",
       "    }\n",
       "\n",
       "    .dataframe thead th {\n",
       "        text-align: right;\n",
       "    }\n",
       "</style>\n",
       "<table border=\"1\" class=\"dataframe\">\n",
       "  <thead>\n",
       "    <tr style=\"text-align: right;\">\n",
       "      <th></th>\n",
       "      <th>Contenu_</th>\n",
       "      <th>Date_</th>\n",
       "      <th>ID_</th>\n",
       "      <th>handles</th>\n",
       "    </tr>\n",
       "  </thead>\n",
       "  <tbody>\n",
       "    <tr>\n",
       "      <th>0</th>\n",
       "      <td>Go like https://t.co/FSIdbJjvrc</td>\n",
       "      <td>2020-12-16 07:51:18</td>\n",
       "      <td>1339115875643875329</td>\n",
       "      <td>Go like https://t.co/FSIdbJjvrc</td>\n",
       "    </tr>\n",
       "    <tr>\n",
       "      <th>1</th>\n",
       "      <td>@fuckgogy i will listen to that song till the ...</td>\n",
       "      <td>2020-12-16 07:51:18</td>\n",
       "      <td>1339115875358498818</td>\n",
       "      <td>i will listen to that song till the day that ...</td>\n",
       "    </tr>\n",
       "    <tr>\n",
       "      <th>2</th>\n",
       "      <td>@tartqglia ikkk i want to see more of her 🥺 sh...</td>\n",
       "      <td>2020-12-16 07:51:18</td>\n",
       "      <td>1339115875354501121</td>\n",
       "      <td>ikkk i want to see more of her 🥺 she’s so pretty</td>\n",
       "    </tr>\n",
       "    <tr>\n",
       "      <th>3</th>\n",
       "      <td>@Faminu_ You knw what i am talking about 😂</td>\n",
       "      <td>2020-12-16 07:51:18</td>\n",
       "      <td>1339115875090063362</td>\n",
       "      <td>You knw what i am talking about 😂</td>\n",
       "    </tr>\n",
       "    <tr>\n",
       "      <th>4</th>\n",
       "      <td>what lmAO PLS 😭\\n https://t.co/9a8wSceqRD</td>\n",
       "      <td>2020-12-16 07:51:18</td>\n",
       "      <td>1339115875027230720</td>\n",
       "      <td>what lmAO PLS 😭\\n https://t.co/9a8wSceqRD</td>\n",
       "    </tr>\n",
       "    <tr>\n",
       "      <th>...</th>\n",
       "      <td>...</td>\n",
       "      <td>...</td>\n",
       "      <td>...</td>\n",
       "      <td>...</td>\n",
       "    </tr>\n",
       "    <tr>\n",
       "      <th>995</th>\n",
       "      <td>It’s like my whole life led me to you</td>\n",
       "      <td>2020-12-16 07:51:15</td>\n",
       "      <td>1339115862595256320</td>\n",
       "      <td>It’s like my whole life led me to you</td>\n",
       "    </tr>\n",
       "    <tr>\n",
       "      <th>996</th>\n",
       "      <td>this feels racist💀✋🏽 https://t.co/TWaQVkjCHG</td>\n",
       "      <td>2020-12-16 07:51:15</td>\n",
       "      <td>1339115862591229959</td>\n",
       "      <td>this feels racist💀✋🏽 https://t.co/TWaQVkjCHG</td>\n",
       "    </tr>\n",
       "    <tr>\n",
       "      <th>997</th>\n",
       "      <td>@nct_menfess join the chat</td>\n",
       "      <td>2020-12-16 07:51:15</td>\n",
       "      <td>1339115862578450432</td>\n",
       "      <td>join the chat</td>\n",
       "    </tr>\n",
       "    <tr>\n",
       "      <th>998</th>\n",
       "      <td>@HANBIN_twt_ hubii ? , i miss u so much 🥺</td>\n",
       "      <td>2020-12-16 07:51:15</td>\n",
       "      <td>1339115862565953536</td>\n",
       "      <td>hubii ? , i miss u so much 🥺</td>\n",
       "    </tr>\n",
       "    <tr>\n",
       "      <th>999</th>\n",
       "      <td>NEVERRRR 😭😭 https://t.co/VhhpvUgsqr</td>\n",
       "      <td>2020-12-16 07:51:15</td>\n",
       "      <td>1339115862553313280</td>\n",
       "      <td>NEVERRRR 😭😭 https://t.co/VhhpvUgsqr</td>\n",
       "    </tr>\n",
       "  </tbody>\n",
       "</table>\n",
       "<p>1000 rows × 4 columns</p>\n",
       "</div>"
      ],
      "text/plain": [
       "                                              Contenu_                Date_  \\\n",
       "0                      Go like https://t.co/FSIdbJjvrc  2020-12-16 07:51:18   \n",
       "1    @fuckgogy i will listen to that song till the ...  2020-12-16 07:51:18   \n",
       "2    @tartqglia ikkk i want to see more of her 🥺 sh...  2020-12-16 07:51:18   \n",
       "3           @Faminu_ You knw what i am talking about 😂  2020-12-16 07:51:18   \n",
       "4            what lmAO PLS 😭\\n https://t.co/9a8wSceqRD  2020-12-16 07:51:18   \n",
       "..                                                 ...                  ...   \n",
       "995              It’s like my whole life led me to you  2020-12-16 07:51:15   \n",
       "996       this feels racist💀✋🏽 https://t.co/TWaQVkjCHG  2020-12-16 07:51:15   \n",
       "997                         @nct_menfess join the chat  2020-12-16 07:51:15   \n",
       "998          @HANBIN_twt_ hubii ? , i miss u so much 🥺  2020-12-16 07:51:15   \n",
       "999                NEVERRRR 😭😭 https://t.co/VhhpvUgsqr  2020-12-16 07:51:15   \n",
       "\n",
       "                     ID_                                            handles  \n",
       "0    1339115875643875329                    Go like https://t.co/FSIdbJjvrc  \n",
       "1    1339115875358498818   i will listen to that song till the day that ...  \n",
       "2    1339115875354501121   ikkk i want to see more of her 🥺 she’s so pretty  \n",
       "3    1339115875090063362                  You knw what i am talking about 😂  \n",
       "4    1339115875027230720          what lmAO PLS 😭\\n https://t.co/9a8wSceqRD  \n",
       "..                   ...                                                ...  \n",
       "995  1339115862595256320              It’s like my whole life led me to you  \n",
       "996  1339115862591229959       this feels racist💀✋🏽 https://t.co/TWaQVkjCHG  \n",
       "997  1339115862578450432                                      join the chat  \n",
       "998  1339115862565953536                       hubii ? , i miss u so much 🥺  \n",
       "999  1339115862553313280                NEVERRRR 😭😭 https://t.co/VhhpvUgsqr  \n",
       "\n",
       "[1000 rows x 4 columns]"
      ]
     },
     "execution_count": 108,
     "metadata": {},
     "output_type": "execute_result"
    }
   ],
   "source": [
    "# remove twitter handles (@user)\n",
    "df['handles'] = np.vectorize(remove_pattern)(df['Contenu_'], \"@[\\w]*\")\n",
    "df.head(1000)"
   ]
  },
  {
   "cell_type": "markdown",
   "metadata": {
    "id": "u_yXOHFACbBR"
   },
   "source": [
    "Removing  URLS,Punctuations, Numbers, and Special Characters,Upcase"
   ]
  },
  {
   "cell_type": "code",
   "execution_count": 109,
   "metadata": {
    "colab": {
     "base_uri": "https://localhost:8080/",
     "height": 738
    },
    "executionInfo": {
     "elapsed": 781,
     "status": "ok",
     "timestamp": 1607818900353,
     "user": {
      "displayName": "Yasmine Mejri",
      "photoUrl": "https://lh3.googleusercontent.com/a-/AOh14GitXB9uqeHn9LZHyp1jrvwlOpRiy4F4PmaqGsQu=s64",
      "userId": "13863323571485542434"
     },
     "user_tz": -60
    },
    "id": "G8C57mA2CQ7J",
    "outputId": "218718da-3b58-452b-d5a2-0490547b30a8"
   },
   "outputs": [
    {
     "data": {
      "text/html": [
       "<div>\n",
       "<style scoped>\n",
       "    .dataframe tbody tr th:only-of-type {\n",
       "        vertical-align: middle;\n",
       "    }\n",
       "\n",
       "    .dataframe tbody tr th {\n",
       "        vertical-align: top;\n",
       "    }\n",
       "\n",
       "    .dataframe thead th {\n",
       "        text-align: right;\n",
       "    }\n",
       "</style>\n",
       "<table border=\"1\" class=\"dataframe\">\n",
       "  <thead>\n",
       "    <tr style=\"text-align: right;\">\n",
       "      <th></th>\n",
       "      <th>Contenu_</th>\n",
       "      <th>Date_</th>\n",
       "      <th>ID_</th>\n",
       "      <th>handles</th>\n",
       "      <th>Tweet_punct</th>\n",
       "    </tr>\n",
       "  </thead>\n",
       "  <tbody>\n",
       "    <tr>\n",
       "      <th>0</th>\n",
       "      <td>Go like https://t.co/FSIdbJjvrc</td>\n",
       "      <td>2020-12-16 07:51:18</td>\n",
       "      <td>1339115875643875329</td>\n",
       "      <td>Go like https://t.co/FSIdbJjvrc</td>\n",
       "      <td>go like</td>\n",
       "    </tr>\n",
       "    <tr>\n",
       "      <th>1</th>\n",
       "      <td>@fuckgogy i will listen to that song till the ...</td>\n",
       "      <td>2020-12-16 07:51:18</td>\n",
       "      <td>1339115875358498818</td>\n",
       "      <td>i will listen to that song till the day that ...</td>\n",
       "      <td>i will listen to that song till the day d e</td>\n",
       "    </tr>\n",
       "    <tr>\n",
       "      <th>2</th>\n",
       "      <td>@tartqglia ikkk i want to see more of her 🥺 sh...</td>\n",
       "      <td>2020-12-16 07:51:18</td>\n",
       "      <td>1339115875354501121</td>\n",
       "      <td>ikkk i want to see more of her 🥺 she’s so pretty</td>\n",
       "      <td>ikkk i want to see more of her she s so pretty</td>\n",
       "    </tr>\n",
       "    <tr>\n",
       "      <th>3</th>\n",
       "      <td>@Faminu_ You knw what i am talking about 😂</td>\n",
       "      <td>2020-12-16 07:51:18</td>\n",
       "      <td>1339115875090063362</td>\n",
       "      <td>You knw what i am talking about 😂</td>\n",
       "      <td>you knw what i am talking about</td>\n",
       "    </tr>\n",
       "    <tr>\n",
       "      <th>4</th>\n",
       "      <td>what lmAO PLS 😭\\n https://t.co/9a8wSceqRD</td>\n",
       "      <td>2020-12-16 07:51:18</td>\n",
       "      <td>1339115875027230720</td>\n",
       "      <td>what lmAO PLS 😭\\n https://t.co/9a8wSceqRD</td>\n",
       "      <td>what lmao pls</td>\n",
       "    </tr>\n",
       "    <tr>\n",
       "      <th>...</th>\n",
       "      <td>...</td>\n",
       "      <td>...</td>\n",
       "      <td>...</td>\n",
       "      <td>...</td>\n",
       "      <td>...</td>\n",
       "    </tr>\n",
       "    <tr>\n",
       "      <th>995</th>\n",
       "      <td>It’s like my whole life led me to you</td>\n",
       "      <td>2020-12-16 07:51:15</td>\n",
       "      <td>1339115862595256320</td>\n",
       "      <td>It’s like my whole life led me to you</td>\n",
       "      <td>it s like my whole life led me to you</td>\n",
       "    </tr>\n",
       "    <tr>\n",
       "      <th>996</th>\n",
       "      <td>this feels racist💀✋🏽 https://t.co/TWaQVkjCHG</td>\n",
       "      <td>2020-12-16 07:51:15</td>\n",
       "      <td>1339115862591229959</td>\n",
       "      <td>this feels racist💀✋🏽 https://t.co/TWaQVkjCHG</td>\n",
       "      <td>this feels racist</td>\n",
       "    </tr>\n",
       "    <tr>\n",
       "      <th>997</th>\n",
       "      <td>@nct_menfess join the chat</td>\n",
       "      <td>2020-12-16 07:51:15</td>\n",
       "      <td>1339115862578450432</td>\n",
       "      <td>join the chat</td>\n",
       "      <td>join the chat</td>\n",
       "    </tr>\n",
       "    <tr>\n",
       "      <th>998</th>\n",
       "      <td>@HANBIN_twt_ hubii ? , i miss u so much 🥺</td>\n",
       "      <td>2020-12-16 07:51:15</td>\n",
       "      <td>1339115862565953536</td>\n",
       "      <td>hubii ? , i miss u so much 🥺</td>\n",
       "      <td>hubii i miss u so much</td>\n",
       "    </tr>\n",
       "    <tr>\n",
       "      <th>999</th>\n",
       "      <td>NEVERRRR 😭😭 https://t.co/VhhpvUgsqr</td>\n",
       "      <td>2020-12-16 07:51:15</td>\n",
       "      <td>1339115862553313280</td>\n",
       "      <td>NEVERRRR 😭😭 https://t.co/VhhpvUgsqr</td>\n",
       "      <td>neverrrr</td>\n",
       "    </tr>\n",
       "  </tbody>\n",
       "</table>\n",
       "<p>1000 rows × 5 columns</p>\n",
       "</div>"
      ],
      "text/plain": [
       "                                              Contenu_                Date_  \\\n",
       "0                      Go like https://t.co/FSIdbJjvrc  2020-12-16 07:51:18   \n",
       "1    @fuckgogy i will listen to that song till the ...  2020-12-16 07:51:18   \n",
       "2    @tartqglia ikkk i want to see more of her 🥺 sh...  2020-12-16 07:51:18   \n",
       "3           @Faminu_ You knw what i am talking about 😂  2020-12-16 07:51:18   \n",
       "4            what lmAO PLS 😭\\n https://t.co/9a8wSceqRD  2020-12-16 07:51:18   \n",
       "..                                                 ...                  ...   \n",
       "995              It’s like my whole life led me to you  2020-12-16 07:51:15   \n",
       "996       this feels racist💀✋🏽 https://t.co/TWaQVkjCHG  2020-12-16 07:51:15   \n",
       "997                         @nct_menfess join the chat  2020-12-16 07:51:15   \n",
       "998          @HANBIN_twt_ hubii ? , i miss u so much 🥺  2020-12-16 07:51:15   \n",
       "999                NEVERRRR 😭😭 https://t.co/VhhpvUgsqr  2020-12-16 07:51:15   \n",
       "\n",
       "                     ID_                                            handles  \\\n",
       "0    1339115875643875329                    Go like https://t.co/FSIdbJjvrc   \n",
       "1    1339115875358498818   i will listen to that song till the day that ...   \n",
       "2    1339115875354501121   ikkk i want to see more of her 🥺 she’s so pretty   \n",
       "3    1339115875090063362                  You knw what i am talking about 😂   \n",
       "4    1339115875027230720          what lmAO PLS 😭\\n https://t.co/9a8wSceqRD   \n",
       "..                   ...                                                ...   \n",
       "995  1339115862595256320              It’s like my whole life led me to you   \n",
       "996  1339115862591229959       this feels racist💀✋🏽 https://t.co/TWaQVkjCHG   \n",
       "997  1339115862578450432                                      join the chat   \n",
       "998  1339115862565953536                       hubii ? , i miss u so much 🥺   \n",
       "999  1339115862553313280                NEVERRRR 😭😭 https://t.co/VhhpvUgsqr   \n",
       "\n",
       "                                        Tweet_punct  \n",
       "0                                           go like  \n",
       "1       i will listen to that song till the day d e  \n",
       "2    ikkk i want to see more of her she s so pretty  \n",
       "3                   you knw what i am talking about  \n",
       "4                                     what lmao pls  \n",
       "..                                              ...  \n",
       "995           it s like my whole life led me to you  \n",
       "996                               this feels racist  \n",
       "997                                   join the chat  \n",
       "998                          hubii i miss u so much  \n",
       "999                                        neverrrr  \n",
       "\n",
       "[1000 rows x 5 columns]"
      ]
     },
     "execution_count": 109,
     "metadata": {},
     "output_type": "execute_result"
    }
   ],
   "source": [
    "# remove special characters, numbers, punctuations\n",
    "df['Tweet_punct'] = df['handles'].str.replace(\"http\\S*\", \" \")#remove URL\n",
    "df['Tweet_punct'] = df['Tweet_punct'].str.replace(\"[^a-zA-Z#]\", \" \")# Removing Punctuations, Numbers, and Special Characters\n",
    "df['Tweet_punct'] = df['Tweet_punct'].str.lower()# Removing Upcase\n",
    "df['Tweet_punct'] = df['Tweet_punct'].str.replace(\"[^A-Za-z0-9^,!.\\/'+-=]\", \" \")\n",
    "df['Tweet_punct'] = df['Tweet_punct'].str.replace(r'#([^\\s]+)', \"\")# remove all hashtags\n",
    "df['Tweet_punct'] = df['Tweet_punct'].str.replace(r'\\b(\\w+)(\\s+\\1)+\\b', r'\\1')#remove duplicated words in row\n",
    "from collections import OrderedDict\n",
    "df['Tweet_punct'] = (df['Tweet_punct'].str.split().apply(lambda x: OrderedDict.fromkeys(x).keys()).str.join(' '))#To remove non-consecutive duplicates, I'd suggest a solution involving the OrderedDict data structure\n",
    " # remove additional whitespaces in tweets\n",
    "df['Tweet_punct'] = df['Tweet_punct'].str.replace('[\\s]+', ' ')\n",
    "df.head(1000)"
   ]
  },
  {
   "cell_type": "markdown",
   "metadata": {
    "id": "X_H5QezDDwOp"
   },
   "source": [
    "Removing Short Words"
   ]
  },
  {
   "cell_type": "code",
   "execution_count": 110,
   "metadata": {
    "colab": {
     "base_uri": "https://localhost:8080/",
     "height": 738
    },
    "executionInfo": {
     "elapsed": 778,
     "status": "ok",
     "timestamp": 1607818906552,
     "user": {
      "displayName": "Yasmine Mejri",
      "photoUrl": "https://lh3.googleusercontent.com/a-/AOh14GitXB9uqeHn9LZHyp1jrvwlOpRiy4F4PmaqGsQu=s64",
      "userId": "13863323571485542434"
     },
     "user_tz": -60
    },
    "id": "mari-PayDrf_",
    "outputId": "ca6815ee-c5ab-4a86-9636-19c9645381c8"
   },
   "outputs": [
    {
     "data": {
      "text/html": [
       "<div>\n",
       "<style scoped>\n",
       "    .dataframe tbody tr th:only-of-type {\n",
       "        vertical-align: middle;\n",
       "    }\n",
       "\n",
       "    .dataframe tbody tr th {\n",
       "        vertical-align: top;\n",
       "    }\n",
       "\n",
       "    .dataframe thead th {\n",
       "        text-align: right;\n",
       "    }\n",
       "</style>\n",
       "<table border=\"1\" class=\"dataframe\">\n",
       "  <thead>\n",
       "    <tr style=\"text-align: right;\">\n",
       "      <th></th>\n",
       "      <th>Contenu_</th>\n",
       "      <th>Date_</th>\n",
       "      <th>ID_</th>\n",
       "      <th>handles</th>\n",
       "      <th>Tweet_punct</th>\n",
       "      <th>specif</th>\n",
       "    </tr>\n",
       "  </thead>\n",
       "  <tbody>\n",
       "    <tr>\n",
       "      <th>0</th>\n",
       "      <td>Go like https://t.co/FSIdbJjvrc</td>\n",
       "      <td>2020-12-16 07:51:18</td>\n",
       "      <td>1339115875643875329</td>\n",
       "      <td>Go like https://t.co/FSIdbJjvrc</td>\n",
       "      <td>go like</td>\n",
       "      <td>like</td>\n",
       "    </tr>\n",
       "    <tr>\n",
       "      <th>1</th>\n",
       "      <td>@fuckgogy i will listen to that song till the ...</td>\n",
       "      <td>2020-12-16 07:51:18</td>\n",
       "      <td>1339115875358498818</td>\n",
       "      <td>i will listen to that song till the day that ...</td>\n",
       "      <td>i will listen to that song till the day d e</td>\n",
       "      <td>will listen that song till</td>\n",
       "    </tr>\n",
       "    <tr>\n",
       "      <th>2</th>\n",
       "      <td>@tartqglia ikkk i want to see more of her 🥺 sh...</td>\n",
       "      <td>2020-12-16 07:51:18</td>\n",
       "      <td>1339115875354501121</td>\n",
       "      <td>ikkk i want to see more of her 🥺 she’s so pretty</td>\n",
       "      <td>ikkk i want to see more of her she s so pretty</td>\n",
       "      <td>ikkk want more pretty</td>\n",
       "    </tr>\n",
       "    <tr>\n",
       "      <th>3</th>\n",
       "      <td>@Faminu_ You knw what i am talking about 😂</td>\n",
       "      <td>2020-12-16 07:51:18</td>\n",
       "      <td>1339115875090063362</td>\n",
       "      <td>You knw what i am talking about 😂</td>\n",
       "      <td>you knw what i am talking about</td>\n",
       "      <td>what talking about</td>\n",
       "    </tr>\n",
       "    <tr>\n",
       "      <th>4</th>\n",
       "      <td>what lmAO PLS 😭\\n https://t.co/9a8wSceqRD</td>\n",
       "      <td>2020-12-16 07:51:18</td>\n",
       "      <td>1339115875027230720</td>\n",
       "      <td>what lmAO PLS 😭\\n https://t.co/9a8wSceqRD</td>\n",
       "      <td>what lmao pls</td>\n",
       "      <td>what lmao</td>\n",
       "    </tr>\n",
       "    <tr>\n",
       "      <th>...</th>\n",
       "      <td>...</td>\n",
       "      <td>...</td>\n",
       "      <td>...</td>\n",
       "      <td>...</td>\n",
       "      <td>...</td>\n",
       "      <td>...</td>\n",
       "    </tr>\n",
       "    <tr>\n",
       "      <th>995</th>\n",
       "      <td>It’s like my whole life led me to you</td>\n",
       "      <td>2020-12-16 07:51:15</td>\n",
       "      <td>1339115862595256320</td>\n",
       "      <td>It’s like my whole life led me to you</td>\n",
       "      <td>it s like my whole life led me to you</td>\n",
       "      <td>like whole life</td>\n",
       "    </tr>\n",
       "    <tr>\n",
       "      <th>996</th>\n",
       "      <td>this feels racist💀✋🏽 https://t.co/TWaQVkjCHG</td>\n",
       "      <td>2020-12-16 07:51:15</td>\n",
       "      <td>1339115862591229959</td>\n",
       "      <td>this feels racist💀✋🏽 https://t.co/TWaQVkjCHG</td>\n",
       "      <td>this feels racist</td>\n",
       "      <td>this feels racist</td>\n",
       "    </tr>\n",
       "    <tr>\n",
       "      <th>997</th>\n",
       "      <td>@nct_menfess join the chat</td>\n",
       "      <td>2020-12-16 07:51:15</td>\n",
       "      <td>1339115862578450432</td>\n",
       "      <td>join the chat</td>\n",
       "      <td>join the chat</td>\n",
       "      <td>join chat</td>\n",
       "    </tr>\n",
       "    <tr>\n",
       "      <th>998</th>\n",
       "      <td>@HANBIN_twt_ hubii ? , i miss u so much 🥺</td>\n",
       "      <td>2020-12-16 07:51:15</td>\n",
       "      <td>1339115862565953536</td>\n",
       "      <td>hubii ? , i miss u so much 🥺</td>\n",
       "      <td>hubii i miss u so much</td>\n",
       "      <td>hubii miss much</td>\n",
       "    </tr>\n",
       "    <tr>\n",
       "      <th>999</th>\n",
       "      <td>NEVERRRR 😭😭 https://t.co/VhhpvUgsqr</td>\n",
       "      <td>2020-12-16 07:51:15</td>\n",
       "      <td>1339115862553313280</td>\n",
       "      <td>NEVERRRR 😭😭 https://t.co/VhhpvUgsqr</td>\n",
       "      <td>neverrrr</td>\n",
       "      <td>neverrrr</td>\n",
       "    </tr>\n",
       "  </tbody>\n",
       "</table>\n",
       "<p>1000 rows × 6 columns</p>\n",
       "</div>"
      ],
      "text/plain": [
       "                                              Contenu_                Date_  \\\n",
       "0                      Go like https://t.co/FSIdbJjvrc  2020-12-16 07:51:18   \n",
       "1    @fuckgogy i will listen to that song till the ...  2020-12-16 07:51:18   \n",
       "2    @tartqglia ikkk i want to see more of her 🥺 sh...  2020-12-16 07:51:18   \n",
       "3           @Faminu_ You knw what i am talking about 😂  2020-12-16 07:51:18   \n",
       "4            what lmAO PLS 😭\\n https://t.co/9a8wSceqRD  2020-12-16 07:51:18   \n",
       "..                                                 ...                  ...   \n",
       "995              It’s like my whole life led me to you  2020-12-16 07:51:15   \n",
       "996       this feels racist💀✋🏽 https://t.co/TWaQVkjCHG  2020-12-16 07:51:15   \n",
       "997                         @nct_menfess join the chat  2020-12-16 07:51:15   \n",
       "998          @HANBIN_twt_ hubii ? , i miss u so much 🥺  2020-12-16 07:51:15   \n",
       "999                NEVERRRR 😭😭 https://t.co/VhhpvUgsqr  2020-12-16 07:51:15   \n",
       "\n",
       "                     ID_                                            handles  \\\n",
       "0    1339115875643875329                    Go like https://t.co/FSIdbJjvrc   \n",
       "1    1339115875358498818   i will listen to that song till the day that ...   \n",
       "2    1339115875354501121   ikkk i want to see more of her 🥺 she’s so pretty   \n",
       "3    1339115875090063362                  You knw what i am talking about 😂   \n",
       "4    1339115875027230720          what lmAO PLS 😭\\n https://t.co/9a8wSceqRD   \n",
       "..                   ...                                                ...   \n",
       "995  1339115862595256320              It’s like my whole life led me to you   \n",
       "996  1339115862591229959       this feels racist💀✋🏽 https://t.co/TWaQVkjCHG   \n",
       "997  1339115862578450432                                      join the chat   \n",
       "998  1339115862565953536                       hubii ? , i miss u so much 🥺   \n",
       "999  1339115862553313280                NEVERRRR 😭😭 https://t.co/VhhpvUgsqr   \n",
       "\n",
       "                                        Tweet_punct  \\\n",
       "0                                           go like   \n",
       "1       i will listen to that song till the day d e   \n",
       "2    ikkk i want to see more of her she s so pretty   \n",
       "3                   you knw what i am talking about   \n",
       "4                                     what lmao pls   \n",
       "..                                              ...   \n",
       "995           it s like my whole life led me to you   \n",
       "996                               this feels racist   \n",
       "997                                   join the chat   \n",
       "998                          hubii i miss u so much   \n",
       "999                                        neverrrr   \n",
       "\n",
       "                         specif  \n",
       "0                          like  \n",
       "1    will listen that song till  \n",
       "2         ikkk want more pretty  \n",
       "3            what talking about  \n",
       "4                     what lmao  \n",
       "..                          ...  \n",
       "995             like whole life  \n",
       "996           this feels racist  \n",
       "997                   join chat  \n",
       "998             hubii miss much  \n",
       "999                    neverrrr  \n",
       "\n",
       "[1000 rows x 6 columns]"
      ]
     },
     "execution_count": 110,
     "metadata": {},
     "output_type": "execute_result"
    }
   ],
   "source": [
    "df['specif'] = df['Tweet_punct'].apply(lambda x: ' '.join([w for w in x.split() if len(w)>3]))\n",
    "df.head(1000)"
   ]
  },
  {
   "cell_type": "markdown",
   "metadata": {
    "id": "I3hWWzGYJu4o"
   },
   "source": [
    "Tokenization"
   ]
  },
  {
   "cell_type": "code",
   "execution_count": 111,
   "metadata": {
    "colab": {
     "base_uri": "https://localhost:8080/"
    },
    "executionInfo": {
     "elapsed": 839,
     "status": "ok",
     "timestamp": 1607818912829,
     "user": {
      "displayName": "Yasmine Mejri",
      "photoUrl": "https://lh3.googleusercontent.com/a-/AOh14GitXB9uqeHn9LZHyp1jrvwlOpRiy4F4PmaqGsQu=s64",
      "userId": "13863323571485542434"
     },
     "user_tz": -60
    },
    "id": "3m9jQeF-DyM8",
    "outputId": "22f58e59-6e5b-4b61-ba07-03272af30f01"
   },
   "outputs": [
    {
     "data": {
      "text/plain": [
       "0                                [like]\n",
       "1      [will, listen, that, song, till]\n",
       "2            [ikkk, want, more, pretty]\n",
       "3                [what, talking, about]\n",
       "4                          [what, lmao]\n",
       "                     ...               \n",
       "995                 [like, whole, life]\n",
       "996               [this, feels, racist]\n",
       "997                        [join, chat]\n",
       "998                 [hubii, miss, much]\n",
       "999                          [neverrrr]\n",
       "Name: specif, Length: 1000, dtype: object"
      ]
     },
     "execution_count": 111,
     "metadata": {},
     "output_type": "execute_result"
    }
   ],
   "source": [
    "#df['Tweet_tokenized'] = df['specif'].apply(lambda x: x.split())\n",
    "tokenized_tweet = df['specif'].apply(lambda x: x.split())\n",
    "tokenized_tweet.head(1000)\n"
   ]
  },
  {
   "cell_type": "markdown",
   "metadata": {
    "id": "xJ5JrfcCLxRS"
   },
   "source": [
    "stopword"
   ]
  },
  {
   "cell_type": "code",
   "execution_count": 112,
   "metadata": {
    "colab": {
     "base_uri": "https://localhost:8080/"
    },
    "executionInfo": {
     "elapsed": 1733,
     "status": "ok",
     "timestamp": 1607820816975,
     "user": {
      "displayName": "Yasmine Mejri",
      "photoUrl": "https://lh3.googleusercontent.com/a-/AOh14GitXB9uqeHn9LZHyp1jrvwlOpRiy4F4PmaqGsQu=s64",
      "userId": "13863323571485542434"
     },
     "user_tz": -60
    },
    "id": "7xzWhRoNK2fE",
    "outputId": "e85d6509-373e-4ba7-dae9-8d03e0e9517e"
   },
   "outputs": [
    {
     "name": "stdout",
     "output_type": "stream",
     "text": [
      "{'having', 'not', 'i', 'who', \"doesn't\", 'no', 'after', 'has', 'didn', 'have', 'further', 'very', 'about', 'me', 'other', \"you've\", 'were', 'd', 'before', 'up', 'when', 'haven', 'over', 'wasn', 'had', 'few', 'nor', 'own', \"hasn't\", \"haven't\", 'you', 'yourselves', \"isn't\", 'or', 'shouldn', 'and', 'myself', 'aren', 'against', 'all', 'this', 'off', 'there', 'himself', 'from', 'under', 're', 'between', 'theirs', 'yours', 'once', \"don't\", 'just', 'herself', 'a', 'themselves', \"didn't\", \"hadn't\", 'while', 'ourselves', 'am', 'll', 'weren', 've', 'to', 'mightn', 'what', 'will', 'don', \"mustn't\", 'them', 'these', 'as', 'down', \"that'll\", 'most', \"needn't\", 'with', 'below', 'they', 'hers', 'of', 'couldn', 'mustn', 'only', 'he', 'she', 'now', 'on', 'then', 'those', 'again', \"weren't\", 'does', 'my', 'same', 'was', 'is', 't', 'wouldn', 'hadn', 'are', 'why', 'which', 'into', 'should', 'during', 'an', 'so', \"it's\", 'the', 'above', 'isn', 'being', 'out', 'too', 's', 'but', \"won't\", 'if', 'for', 'where', 'him', 'at', 'o', 'because', \"should've\", 'hasn', 'more', 'it', 'whom', 'needn', 'some', 'his', 'their', \"shan't\", 'doesn', 'itself', 'than', \"wouldn't\", 'in', 'won', \"wasn't\", 'ours', 'any', 'ain', 'your', 'here', \"she's\", \"you'll\", 'by', \"you're\", 'yourself', 'be', 'our', 'until', 'each', 'its', \"mightn't\", \"aren't\", 'do', 'shan', \"couldn't\", 'did', 'through', 'such', 'can', 'that', 'ma', \"shouldn't\", 'm', 'how', \"you'd\", 'doing', 'both', 'her', 'y', 'been', 'we'}\n"
     ]
    }
   ],
   "source": [
    "from nltk.corpus import stopwords\n",
    "stop_words = set(stopwords.words('english'))\n",
    "print(stop_words)"
   ]
  },
  {
   "cell_type": "code",
   "execution_count": 133,
   "metadata": {
    "id": "MlenoHdkMp0S"
   },
   "outputs": [],
   "source": [
    "#stopword.extend(['what', 'year', 'woman', 'girl', 'sixteen', 'yearold', 'weeks', 'week','bitch','fuck','yess'\n",
    "            # 'treatment', 'associated', 'patients'])\n",
    "#add words that aren't in the NLTK stopwords list\n",
    "new_stopwords = ['what', 'year', 'yayyy', 'sixteen', 'yearold', 'weeks', 'week','bitch','fuck','yess','yeah','dontt','ikkk'\n",
    "             'treatment', 'associated', 'patients','omgg','yeahh','lmao']\n",
    "new_stopwords_list = stop_words.union(new_stopwords)"
   ]
  },
  {
   "cell_type": "code",
   "execution_count": 134,
   "metadata": {
    "colab": {
     "base_uri": "https://localhost:8080/"
    },
    "executionInfo": {
     "elapsed": 732,
     "status": "ok",
     "timestamp": 1607820825600,
     "user": {
      "displayName": "Yasmine Mejri",
      "photoUrl": "https://lh3.googleusercontent.com/a-/AOh14GitXB9uqeHn9LZHyp1jrvwlOpRiy4F4PmaqGsQu=s64",
      "userId": "13863323571485542434"
     },
     "user_tz": -60
    },
    "id": "jasiP53AL111",
    "outputId": "a3621991-a028-4857-da8b-421d79921cff"
   },
   "outputs": [
    {
     "data": {
      "text/plain": [
       "0                                               [like]\n",
       "1                                 [listen, song, till]\n",
       "2                                 [ikkk, want, pretty]\n",
       "3                                            [talking]\n",
       "4                                                   []\n",
       "5                   [really, hope, coming, soon, guys]\n",
       "6                                    [hacked, scammed]\n",
       "7    [report, suspicious, voter, behavior, website,...\n",
       "8                                              [speak]\n",
       "9                      [love, comes, across, bitterly]\n",
       "Name: specif, dtype: object"
      ]
     },
     "execution_count": 134,
     "metadata": {},
     "output_type": "execute_result"
    }
   ],
   "source": [
    "def remove_stopwords(text):\n",
    "    #text = [word for word in text if word not in stopword]\n",
    "    text = [word for word in text if word not in new_stopwords_list]\n",
    "    return text\n",
    "    \n",
    "Tweet_nonstop = tokenized_tweet.apply(lambda x: remove_stopwords(x))#essaie2\n",
    "Tweet_nonstop.head(10)"
   ]
  },
  {
   "cell_type": "code",
   "execution_count": null,
   "metadata": {},
   "outputs": [],
   "source": []
  },
  {
   "cell_type": "code",
   "execution_count": 135,
   "metadata": {
    "colab": {
     "base_uri": "https://localhost:8080/"
    },
    "executionInfo": {
     "elapsed": 747,
     "status": "ok",
     "timestamp": 1607820865766,
     "user": {
      "displayName": "Yasmine Mejri",
      "photoUrl": "https://lh3.googleusercontent.com/a-/AOh14GitXB9uqeHn9LZHyp1jrvwlOpRiy4F4PmaqGsQu=s64",
      "userId": "13863323571485542434"
     },
     "user_tz": -60
    },
    "id": "SX3kj4fXRG2L",
    "outputId": "07dbcb98-d650-4eec-8a7a-3e41723982c9"
   },
   "outputs": [
    {
     "data": {
      "text/plain": [
       "0                                             [like]\n",
       "1                               [listen, song, till]\n",
       "2                               [ikkk, want, pretty]\n",
       "3                                          [talking]\n",
       "4                                                 []\n",
       "                           ...                      \n",
       "95                       [halloween, outfit, sorted]\n",
       "96                                                []\n",
       "97    [riggins, biggest, sweetheart, wiggly, around]\n",
       "98                                            [love]\n",
       "99     [advertising, brave, browser, wahmen, prolly]\n",
       "Name: specif, Length: 100, dtype: object"
      ]
     },
     "execution_count": 135,
     "metadata": {},
     "output_type": "execute_result"
    }
   ],
   "source": [
    "Tweet_nonstop = tokenized_tweet.apply(lambda x: remove_stopwords(x)) #essaie1\n",
    "Tweet_nonstop.head(100)"
   ]
  },
  {
   "cell_type": "markdown",
   "metadata": {
    "id": "TLaPngsqNKCG"
   },
   "source": [
    "Stemming and Lammitization¶"
   ]
  },
  {
   "cell_type": "code",
   "execution_count": 136,
   "metadata": {
    "colab": {
     "base_uri": "https://localhost:8080/"
    },
    "executionInfo": {
     "elapsed": 1433,
     "status": "ok",
     "timestamp": 1607819203443,
     "user": {
      "displayName": "Yasmine Mejri",
      "photoUrl": "https://lh3.googleusercontent.com/a-/AOh14GitXB9uqeHn9LZHyp1jrvwlOpRiy4F4PmaqGsQu=s64",
      "userId": "13863323571485542434"
     },
     "user_tz": -60
    },
    "id": "C-gyL9E5MMTC",
    "outputId": "049aa1bc-3336-4c44-d377-f39f02a15604"
   },
   "outputs": [
    {
     "data": {
      "text/plain": [
       "0                    [like]\n",
       "1      [listen, song, till]\n",
       "2      [ikkk, want, pretti]\n",
       "3                    [talk]\n",
       "4                        []\n",
       "               ...         \n",
       "995     [like, whole, life]\n",
       "996          [feel, racist]\n",
       "997            [join, chat]\n",
       "998     [hubii, miss, much]\n",
       "999              [neverrrr]\n",
       "Name: specif, Length: 1000, dtype: object"
      ]
     },
     "execution_count": 136,
     "metadata": {},
     "output_type": "execute_result"
    }
   ],
   "source": [
    "ps = nltk.PorterStemmer()\n",
    "\n",
    "#def stemming(text):\n",
    "    #text = [ps.stem(word) for word in text]\n",
    "    #return text\n",
    "#df['Tweet_stemmed'] = df['Tweet_tokenized'].apply(lambda x: stemming(x))\n",
    "#df['Tweet_stemmed'] = df['Tweet_nonstop'].apply(lambda x: stemming(x))\n",
    "#df.head(10)\n",
    "Tweet_stemme = Tweet_nonstop.apply(lambda x: [ps.stem(i) for i in x]) # stemming essaie2\n",
    "\n",
    "#Tweet_stemme = tokenized_tweet.apply(lambda x: [ps.stem(i) for i in x]) # stemming essaie1\n",
    "Tweet_stemme.head(1000)"
   ]
  },
  {
   "cell_type": "code",
   "execution_count": 137,
   "metadata": {
    "colab": {
     "base_uri": "https://localhost:8080/"
    },
    "executionInfo": {
     "elapsed": 818,
     "status": "ok",
     "timestamp": 1607819381024,
     "user": {
      "displayName": "Yasmine Mejri",
      "photoUrl": "https://lh3.googleusercontent.com/a-/AOh14GitXB9uqeHn9LZHyp1jrvwlOpRiy4F4PmaqGsQu=s64",
      "userId": "13863323571485542434"
     },
     "user_tz": -60
    },
    "id": "8jlREATuNs9Z",
    "outputId": "b57ada4c-fa4c-4445-80d7-064f43d40307"
   },
   "outputs": [
    {
     "data": {
      "text/plain": [
       "0                    [like]\n",
       "1      [listen, song, till]\n",
       "2      [ikkk, want, pretti]\n",
       "3                    [talk]\n",
       "4                        []\n",
       "               ...         \n",
       "995     [like, whole, life]\n",
       "996          [feel, racist]\n",
       "997            [join, chat]\n",
       "998     [hubii, miss, much]\n",
       "999              [neverrrr]\n",
       "Name: specif, Length: 1000, dtype: object"
      ]
     },
     "execution_count": 137,
     "metadata": {},
     "output_type": "execute_result"
    }
   ],
   "source": [
    "wn = nltk.WordNetLemmatizer()\n",
    "\n",
    "def lemmatizer(text):\n",
    "    text = [wn.lemmatize(word) for word in text]\n",
    "    return text\n",
    "Tweet_lemmatized = Tweet_stemme.apply(lambda x: lemmatizer(x)) # stemming essaie2\n",
    "#clean_tweets['Tweet_lemmatized'] = clean_tweets['Tweet_nonstop'].apply(lambda x: lemmatizer(x))\n",
    "Tweet_lemmatized.head(1000)"
   ]
  },
  {
   "cell_type": "code",
   "execution_count": 138,
   "metadata": {
    "id": "waPLRwO3RuUF"
   },
   "outputs": [],
   "source": [
    "for i in range(len(Tweet_stemme)):\n",
    "    Tweet_stemme[i] = ' '.join(Tweet_stemme[i])\n",
    "\n",
    "df['Tweet_stemmed'] = Tweet_stemme"
   ]
  },
  {
   "cell_type": "code",
   "execution_count": 139,
   "metadata": {
    "scrolled": true
   },
   "outputs": [
    {
     "data": {
      "text/html": [
       "<div>\n",
       "<style scoped>\n",
       "    .dataframe tbody tr th:only-of-type {\n",
       "        vertical-align: middle;\n",
       "    }\n",
       "\n",
       "    .dataframe tbody tr th {\n",
       "        vertical-align: top;\n",
       "    }\n",
       "\n",
       "    .dataframe thead th {\n",
       "        text-align: right;\n",
       "    }\n",
       "</style>\n",
       "<table border=\"1\" class=\"dataframe\">\n",
       "  <thead>\n",
       "    <tr style=\"text-align: right;\">\n",
       "      <th></th>\n",
       "      <th>Contenu_</th>\n",
       "      <th>Date_</th>\n",
       "      <th>ID_</th>\n",
       "      <th>handles</th>\n",
       "      <th>Tweet_punct</th>\n",
       "      <th>specif</th>\n",
       "      <th>Tweet_stemmed</th>\n",
       "    </tr>\n",
       "  </thead>\n",
       "  <tbody>\n",
       "    <tr>\n",
       "      <th>0</th>\n",
       "      <td>Go like https://t.co/FSIdbJjvrc</td>\n",
       "      <td>2020-12-16 07:51:18</td>\n",
       "      <td>1339115875643875329</td>\n",
       "      <td>Go like https://t.co/FSIdbJjvrc</td>\n",
       "      <td>go like</td>\n",
       "      <td>like</td>\n",
       "      <td>like</td>\n",
       "    </tr>\n",
       "    <tr>\n",
       "      <th>1</th>\n",
       "      <td>@fuckgogy i will listen to that song till the ...</td>\n",
       "      <td>2020-12-16 07:51:18</td>\n",
       "      <td>1339115875358498818</td>\n",
       "      <td>i will listen to that song till the day that ...</td>\n",
       "      <td>i will listen to that song till the day d e</td>\n",
       "      <td>will listen that song till</td>\n",
       "      <td>listen song till</td>\n",
       "    </tr>\n",
       "    <tr>\n",
       "      <th>2</th>\n",
       "      <td>@tartqglia ikkk i want to see more of her 🥺 sh...</td>\n",
       "      <td>2020-12-16 07:51:18</td>\n",
       "      <td>1339115875354501121</td>\n",
       "      <td>ikkk i want to see more of her 🥺 she’s so pretty</td>\n",
       "      <td>ikkk i want to see more of her she s so pretty</td>\n",
       "      <td>ikkk want more pretty</td>\n",
       "      <td>ikkk want pretti</td>\n",
       "    </tr>\n",
       "    <tr>\n",
       "      <th>3</th>\n",
       "      <td>@Faminu_ You knw what i am talking about 😂</td>\n",
       "      <td>2020-12-16 07:51:18</td>\n",
       "      <td>1339115875090063362</td>\n",
       "      <td>You knw what i am talking about 😂</td>\n",
       "      <td>you knw what i am talking about</td>\n",
       "      <td>what talking about</td>\n",
       "      <td>talk</td>\n",
       "    </tr>\n",
       "    <tr>\n",
       "      <th>4</th>\n",
       "      <td>what lmAO PLS 😭\\n https://t.co/9a8wSceqRD</td>\n",
       "      <td>2020-12-16 07:51:18</td>\n",
       "      <td>1339115875027230720</td>\n",
       "      <td>what lmAO PLS 😭\\n https://t.co/9a8wSceqRD</td>\n",
       "      <td>what lmao pls</td>\n",
       "      <td>what lmao</td>\n",
       "      <td></td>\n",
       "    </tr>\n",
       "    <tr>\n",
       "      <th>...</th>\n",
       "      <td>...</td>\n",
       "      <td>...</td>\n",
       "      <td>...</td>\n",
       "      <td>...</td>\n",
       "      <td>...</td>\n",
       "      <td>...</td>\n",
       "      <td>...</td>\n",
       "    </tr>\n",
       "    <tr>\n",
       "      <th>995</th>\n",
       "      <td>It’s like my whole life led me to you</td>\n",
       "      <td>2020-12-16 07:51:15</td>\n",
       "      <td>1339115862595256320</td>\n",
       "      <td>It’s like my whole life led me to you</td>\n",
       "      <td>it s like my whole life led me to you</td>\n",
       "      <td>like whole life</td>\n",
       "      <td>like whole life</td>\n",
       "    </tr>\n",
       "    <tr>\n",
       "      <th>996</th>\n",
       "      <td>this feels racist💀✋🏽 https://t.co/TWaQVkjCHG</td>\n",
       "      <td>2020-12-16 07:51:15</td>\n",
       "      <td>1339115862591229959</td>\n",
       "      <td>this feels racist💀✋🏽 https://t.co/TWaQVkjCHG</td>\n",
       "      <td>this feels racist</td>\n",
       "      <td>this feels racist</td>\n",
       "      <td>feel racist</td>\n",
       "    </tr>\n",
       "    <tr>\n",
       "      <th>997</th>\n",
       "      <td>@nct_menfess join the chat</td>\n",
       "      <td>2020-12-16 07:51:15</td>\n",
       "      <td>1339115862578450432</td>\n",
       "      <td>join the chat</td>\n",
       "      <td>join the chat</td>\n",
       "      <td>join chat</td>\n",
       "      <td>join chat</td>\n",
       "    </tr>\n",
       "    <tr>\n",
       "      <th>998</th>\n",
       "      <td>@HANBIN_twt_ hubii ? , i miss u so much 🥺</td>\n",
       "      <td>2020-12-16 07:51:15</td>\n",
       "      <td>1339115862565953536</td>\n",
       "      <td>hubii ? , i miss u so much 🥺</td>\n",
       "      <td>hubii i miss u so much</td>\n",
       "      <td>hubii miss much</td>\n",
       "      <td>hubii miss much</td>\n",
       "    </tr>\n",
       "    <tr>\n",
       "      <th>999</th>\n",
       "      <td>NEVERRRR 😭😭 https://t.co/VhhpvUgsqr</td>\n",
       "      <td>2020-12-16 07:51:15</td>\n",
       "      <td>1339115862553313280</td>\n",
       "      <td>NEVERRRR 😭😭 https://t.co/VhhpvUgsqr</td>\n",
       "      <td>neverrrr</td>\n",
       "      <td>neverrrr</td>\n",
       "      <td>neverrrr</td>\n",
       "    </tr>\n",
       "  </tbody>\n",
       "</table>\n",
       "<p>1000 rows × 7 columns</p>\n",
       "</div>"
      ],
      "text/plain": [
       "                                              Contenu_                Date_  \\\n",
       "0                      Go like https://t.co/FSIdbJjvrc  2020-12-16 07:51:18   \n",
       "1    @fuckgogy i will listen to that song till the ...  2020-12-16 07:51:18   \n",
       "2    @tartqglia ikkk i want to see more of her 🥺 sh...  2020-12-16 07:51:18   \n",
       "3           @Faminu_ You knw what i am talking about 😂  2020-12-16 07:51:18   \n",
       "4            what lmAO PLS 😭\\n https://t.co/9a8wSceqRD  2020-12-16 07:51:18   \n",
       "..                                                 ...                  ...   \n",
       "995              It’s like my whole life led me to you  2020-12-16 07:51:15   \n",
       "996       this feels racist💀✋🏽 https://t.co/TWaQVkjCHG  2020-12-16 07:51:15   \n",
       "997                         @nct_menfess join the chat  2020-12-16 07:51:15   \n",
       "998          @HANBIN_twt_ hubii ? , i miss u so much 🥺  2020-12-16 07:51:15   \n",
       "999                NEVERRRR 😭😭 https://t.co/VhhpvUgsqr  2020-12-16 07:51:15   \n",
       "\n",
       "                     ID_                                            handles  \\\n",
       "0    1339115875643875329                    Go like https://t.co/FSIdbJjvrc   \n",
       "1    1339115875358498818   i will listen to that song till the day that ...   \n",
       "2    1339115875354501121   ikkk i want to see more of her 🥺 she’s so pretty   \n",
       "3    1339115875090063362                  You knw what i am talking about 😂   \n",
       "4    1339115875027230720          what lmAO PLS 😭\\n https://t.co/9a8wSceqRD   \n",
       "..                   ...                                                ...   \n",
       "995  1339115862595256320              It’s like my whole life led me to you   \n",
       "996  1339115862591229959       this feels racist💀✋🏽 https://t.co/TWaQVkjCHG   \n",
       "997  1339115862578450432                                      join the chat   \n",
       "998  1339115862565953536                       hubii ? , i miss u so much 🥺   \n",
       "999  1339115862553313280                NEVERRRR 😭😭 https://t.co/VhhpvUgsqr   \n",
       "\n",
       "                                        Tweet_punct  \\\n",
       "0                                           go like   \n",
       "1       i will listen to that song till the day d e   \n",
       "2    ikkk i want to see more of her she s so pretty   \n",
       "3                   you knw what i am talking about   \n",
       "4                                     what lmao pls   \n",
       "..                                              ...   \n",
       "995           it s like my whole life led me to you   \n",
       "996                               this feels racist   \n",
       "997                                   join the chat   \n",
       "998                          hubii i miss u so much   \n",
       "999                                        neverrrr   \n",
       "\n",
       "                         specif     Tweet_stemmed  \n",
       "0                          like              like  \n",
       "1    will listen that song till  listen song till  \n",
       "2         ikkk want more pretty  ikkk want pretti  \n",
       "3            what talking about              talk  \n",
       "4                     what lmao                    \n",
       "..                          ...               ...  \n",
       "995             like whole life   like whole life  \n",
       "996           this feels racist       feel racist  \n",
       "997                   join chat         join chat  \n",
       "998             hubii miss much   hubii miss much  \n",
       "999                    neverrrr          neverrrr  \n",
       "\n",
       "[1000 rows x 7 columns]"
      ]
     },
     "execution_count": 139,
     "metadata": {},
     "output_type": "execute_result"
    }
   ],
   "source": [
    "df.head(1000)"
   ]
  },
  {
   "cell_type": "code",
   "execution_count": 142,
   "metadata": {},
   "outputs": [
    {
     "data": {
      "text/html": [
       "<div>\n",
       "<style scoped>\n",
       "    .dataframe tbody tr th:only-of-type {\n",
       "        vertical-align: middle;\n",
       "    }\n",
       "\n",
       "    .dataframe tbody tr th {\n",
       "        vertical-align: top;\n",
       "    }\n",
       "\n",
       "    .dataframe thead th {\n",
       "        text-align: right;\n",
       "    }\n",
       "</style>\n",
       "<table border=\"1\" class=\"dataframe\">\n",
       "  <thead>\n",
       "    <tr style=\"text-align: right;\">\n",
       "      <th></th>\n",
       "      <th>Contenu_</th>\n",
       "      <th>Date_</th>\n",
       "      <th>ID_</th>\n",
       "      <th>handles</th>\n",
       "      <th>Tweet_punct</th>\n",
       "      <th>specif</th>\n",
       "      <th>Tweet_stemmed</th>\n",
       "    </tr>\n",
       "  </thead>\n",
       "  <tbody>\n",
       "    <tr>\n",
       "      <th>0</th>\n",
       "      <td>Go like https://t.co/FSIdbJjvrc</td>\n",
       "      <td>2020-12-16 07:51:18</td>\n",
       "      <td>1339115875643875329</td>\n",
       "      <td>Go like https://t.co/FSIdbJjvrc</td>\n",
       "      <td>go like</td>\n",
       "      <td>like</td>\n",
       "      <td>like</td>\n",
       "    </tr>\n",
       "    <tr>\n",
       "      <th>1</th>\n",
       "      <td>@fuckgogy i will listen to that song till the ...</td>\n",
       "      <td>2020-12-16 07:51:18</td>\n",
       "      <td>1339115875358498818</td>\n",
       "      <td>i will listen to that song till the day that ...</td>\n",
       "      <td>i will listen to that song till the day d e</td>\n",
       "      <td>will listen that song till</td>\n",
       "      <td>listen song till</td>\n",
       "    </tr>\n",
       "    <tr>\n",
       "      <th>2</th>\n",
       "      <td>@tartqglia ikkk i want to see more of her 🥺 sh...</td>\n",
       "      <td>2020-12-16 07:51:18</td>\n",
       "      <td>1339115875354501121</td>\n",
       "      <td>ikkk i want to see more of her 🥺 she’s so pretty</td>\n",
       "      <td>ikkk i want to see more of her she s so pretty</td>\n",
       "      <td>ikkk want more pretty</td>\n",
       "      <td>ikkk want pretti</td>\n",
       "    </tr>\n",
       "    <tr>\n",
       "      <th>3</th>\n",
       "      <td>@Faminu_ You knw what i am talking about 😂</td>\n",
       "      <td>2020-12-16 07:51:18</td>\n",
       "      <td>1339115875090063362</td>\n",
       "      <td>You knw what i am talking about 😂</td>\n",
       "      <td>you knw what i am talking about</td>\n",
       "      <td>what talking about</td>\n",
       "      <td>talk</td>\n",
       "    </tr>\n",
       "    <tr>\n",
       "      <th>5</th>\n",
       "      <td>@CyberpunkGame Really hope an AI fix is coming...</td>\n",
       "      <td>2020-12-16 07:51:18</td>\n",
       "      <td>1339115875002159104</td>\n",
       "      <td>Really hope an AI fix is coming soon guys...</td>\n",
       "      <td>really hope an ai fix is coming soon guys</td>\n",
       "      <td>really hope coming soon guys</td>\n",
       "      <td>realli hope come soon guy</td>\n",
       "    </tr>\n",
       "    <tr>\n",
       "      <th>...</th>\n",
       "      <td>...</td>\n",
       "      <td>...</td>\n",
       "      <td>...</td>\n",
       "      <td>...</td>\n",
       "      <td>...</td>\n",
       "      <td>...</td>\n",
       "      <td>...</td>\n",
       "    </tr>\n",
       "    <tr>\n",
       "      <th>1036</th>\n",
       "      <td>Woah https://t.co/Ks4iG2YLHC</td>\n",
       "      <td>2020-12-16 07:51:15</td>\n",
       "      <td>1339115862066831360</td>\n",
       "      <td>Woah https://t.co/Ks4iG2YLHC</td>\n",
       "      <td>woah</td>\n",
       "      <td>woah</td>\n",
       "      <td>woah</td>\n",
       "    </tr>\n",
       "    <tr>\n",
       "      <th>1037</th>\n",
       "      <td>@drvyom Hopefully no one forgets to panic! Hop...</td>\n",
       "      <td>2020-12-16 07:51:15</td>\n",
       "      <td>1339115862028996609</td>\n",
       "      <td>Hopefully no one forgets to panic! Hopefully ...</td>\n",
       "      <td>hopefully no one forgets to panic they can rui...</td>\n",
       "      <td>hopefully forgets panic they ruin asymptomatic...</td>\n",
       "      <td>hope forget panic ruin asymptomat peopl christ...</td>\n",
       "    </tr>\n",
       "    <tr>\n",
       "      <th>1038</th>\n",
       "      <td>Wishing DCP Abba Kyari and his team all the be...</td>\n",
       "      <td>2020-12-16 07:51:15</td>\n",
       "      <td>1339115862025003008</td>\n",
       "      <td>Wishing DCP Abba Kyari and his team all the be...</td>\n",
       "      <td>wishing dcp abba kyari and his team all the be...</td>\n",
       "      <td>wishing abba kyari team best with</td>\n",
       "      <td>wish abba kyari team best</td>\n",
       "    </tr>\n",
       "    <tr>\n",
       "      <th>1039</th>\n",
       "      <td>@sanaswifee PLEASE MOOD I AM BEGGING</td>\n",
       "      <td>2020-12-16 07:51:15</td>\n",
       "      <td>1339115862016581632</td>\n",
       "      <td>PLEASE MOOD I AM BEGGING</td>\n",
       "      <td>please mood i am begging</td>\n",
       "      <td>please mood begging</td>\n",
       "      <td>pleas mood beg</td>\n",
       "    </tr>\n",
       "    <tr>\n",
       "      <th>1040</th>\n",
       "      <td>Brilliant work sir https://t.co/EiYkGYEQO4</td>\n",
       "      <td>2020-12-16 07:51:15</td>\n",
       "      <td>1339115862016536577</td>\n",
       "      <td>Brilliant work sir https://t.co/EiYkGYEQO4</td>\n",
       "      <td>brilliant work sir</td>\n",
       "      <td>brilliant work</td>\n",
       "      <td>brilliant work</td>\n",
       "    </tr>\n",
       "  </tbody>\n",
       "</table>\n",
       "<p>1000 rows × 7 columns</p>\n",
       "</div>"
      ],
      "text/plain": [
       "                                               Contenu_                Date_  \\\n",
       "0                       Go like https://t.co/FSIdbJjvrc  2020-12-16 07:51:18   \n",
       "1     @fuckgogy i will listen to that song till the ...  2020-12-16 07:51:18   \n",
       "2     @tartqglia ikkk i want to see more of her 🥺 sh...  2020-12-16 07:51:18   \n",
       "3            @Faminu_ You knw what i am talking about 😂  2020-12-16 07:51:18   \n",
       "5     @CyberpunkGame Really hope an AI fix is coming...  2020-12-16 07:51:18   \n",
       "...                                                 ...                  ...   \n",
       "1036                       Woah https://t.co/Ks4iG2YLHC  2020-12-16 07:51:15   \n",
       "1037  @drvyom Hopefully no one forgets to panic! Hop...  2020-12-16 07:51:15   \n",
       "1038  Wishing DCP Abba Kyari and his team all the be...  2020-12-16 07:51:15   \n",
       "1039               @sanaswifee PLEASE MOOD I AM BEGGING  2020-12-16 07:51:15   \n",
       "1040         Brilliant work sir https://t.co/EiYkGYEQO4  2020-12-16 07:51:15   \n",
       "\n",
       "                      ID_                                            handles  \\\n",
       "0     1339115875643875329                    Go like https://t.co/FSIdbJjvrc   \n",
       "1     1339115875358498818   i will listen to that song till the day that ...   \n",
       "2     1339115875354501121   ikkk i want to see more of her 🥺 she’s so pretty   \n",
       "3     1339115875090063362                  You knw what i am talking about 😂   \n",
       "5     1339115875002159104       Really hope an AI fix is coming soon guys...   \n",
       "...                   ...                                                ...   \n",
       "1036  1339115862066831360                       Woah https://t.co/Ks4iG2YLHC   \n",
       "1037  1339115862028996609   Hopefully no one forgets to panic! Hopefully ...   \n",
       "1038  1339115862025003008  Wishing DCP Abba Kyari and his team all the be...   \n",
       "1039  1339115862016581632                           PLEASE MOOD I AM BEGGING   \n",
       "1040  1339115862016536577         Brilliant work sir https://t.co/EiYkGYEQO4   \n",
       "\n",
       "                                            Tweet_punct  \\\n",
       "0                                               go like   \n",
       "1           i will listen to that song till the day d e   \n",
       "2        ikkk i want to see more of her she s so pretty   \n",
       "3                       you knw what i am talking about   \n",
       "5             really hope an ai fix is coming soon guys   \n",
       "...                                                 ...   \n",
       "1036                                               woah   \n",
       "1037  hopefully no one forgets to panic they can rui...   \n",
       "1038  wishing dcp abba kyari and his team all the be...   \n",
       "1039                           please mood i am begging   \n",
       "1040                                 brilliant work sir   \n",
       "\n",
       "                                                 specif  \\\n",
       "0                                                  like   \n",
       "1                            will listen that song till   \n",
       "2                                 ikkk want more pretty   \n",
       "3                                    what talking about   \n",
       "5                          really hope coming soon guys   \n",
       "...                                                 ...   \n",
       "1036                                               woah   \n",
       "1037  hopefully forgets panic they ruin asymptomatic...   \n",
       "1038                  wishing abba kyari team best with   \n",
       "1039                                please mood begging   \n",
       "1040                                     brilliant work   \n",
       "\n",
       "                                          Tweet_stemmed  \n",
       "0                                                  like  \n",
       "1                                      listen song till  \n",
       "2                                      ikkk want pretti  \n",
       "3                                                  talk  \n",
       "5                             realli hope come soon guy  \n",
       "...                                                 ...  \n",
       "1036                                               woah  \n",
       "1037  hope forget panic ruin asymptomat peopl christ...  \n",
       "1038                          wish abba kyari team best  \n",
       "1039                                     pleas mood beg  \n",
       "1040                                     brilliant work  \n",
       "\n",
       "[1000 rows x 7 columns]"
      ]
     },
     "execution_count": 142,
     "metadata": {},
     "output_type": "execute_result"
    }
   ],
   "source": [
    "#First replace all the empty rows with NAN value \n",
    "df['Tweet_stemmed'].replace('', np.nan, inplace=True)\n",
    "#Then we drop those rows\n",
    "df.dropna(subset=['Tweet_stemmed'], inplace=True)\n",
    "df.head(1000)"
   ]
  },
  {
   "cell_type": "markdown",
   "metadata": {
    "id": "750B0bDwOIyP"
   },
   "source": [
    "WordCloud"
   ]
  },
  {
   "cell_type": "code",
   "execution_count": 143,
   "metadata": {
    "colab": {
     "base_uri": "https://localhost:8080/",
     "height": 380
    },
    "executionInfo": {
     "elapsed": 2910,
     "status": "ok",
     "timestamp": 1607819426023,
     "user": {
      "displayName": "Yasmine Mejri",
      "photoUrl": "https://lh3.googleusercontent.com/a-/AOh14GitXB9uqeHn9LZHyp1jrvwlOpRiy4F4PmaqGsQu=s64",
      "userId": "13863323571485542434"
     },
     "user_tz": -60
    },
    "id": "wZp9KLn_OH1T",
    "outputId": "91b35a37-79aa-4da9-c904-afd2ceb76056"
   },
   "outputs": [
    {
     "data": {
      "image/png": "[encoded data removed]",
      "text/plain": [
       "<Figure size 720x504 with 1 Axes>"
      ]
     },
     "metadata": {
      "needs_background": "light"
     },
     "output_type": "display_data"
    }
   ],
   "source": [
    "all_words = ' '.join([text for text in df['Tweet_stemmed']])\n",
    "from wordcloud import WordCloud\n",
    "wordcloud = WordCloud(width=800, height=500, random_state=21, max_font_size=110).generate(all_words)\n",
    "\n",
    "plt.figure(figsize=(10, 7))\n",
    "plt.imshow(wordcloud, interpolation=\"bilinear\")\n",
    "plt.axis('off')\n",
    "plt.show()"
   ]
  },
  {
   "cell_type": "code",
   "execution_count": 144,
   "metadata": {
    "id": "-Ra6HJMGXWuP"
   },
   "outputs": [],
   "source": [
    "from sklearn.feature_extraction.text import CountVectorizer\n",
    "bow_vectorizer = CountVectorizer(max_df=0.90, min_df=2, max_features=1000, stop_words='english')\n",
    "# bag-of-words feature matrix\n",
    "bow = bow_vectorizer.fit_transform(df['Tweet_stemmed'])"
   ]
  },
  {
   "cell_type": "markdown",
   "metadata": {
    "id": "X5CFTq0yYI_F"
   },
   "source": [
    "TF-IDF Features"
   ]
  },
  {
   "cell_type": "code",
   "execution_count": 145,
   "metadata": {
    "id": "15l8SCLHYdw-"
   },
   "outputs": [],
   "source": [
    "from sklearn.cluster import KMeans\n",
    "from sklearn.feature_extraction.text import TfidfVectorizer \n",
    "from sklearn.decomposition import PCA\n",
    "from sklearn.preprocessing import normalize\n",
    "from sklearn.metrics import pairwise_distances"
   ]
  },
  {
   "cell_type": "code",
   "execution_count": 146,
   "metadata": {
    "id": "3WkOJLZRXbgt"
   },
   "outputs": [],
   "source": [
    "from sklearn.feature_extraction.text import TfidfVectorizer\n",
    "tfidf_vectorizer = TfidfVectorizer(max_df=0.90, min_df=2, max_features=1000, stop_words='english')\n",
    "# TF-IDF feature matrix\n",
    "tfidf = tfidf_vectorizer.fit_transform(df['Tweet_stemmed'])"
   ]
  },
  {
   "cell_type": "code",
   "execution_count": 147,
   "metadata": {
    "colab": {
     "base_uri": "https://localhost:8080/",
     "height": 244
    },
    "executionInfo": {
     "elapsed": 718,
     "status": "ok",
     "timestamp": 1607819463315,
     "user": {
      "displayName": "Yasmine Mejri",
      "photoUrl": "https://lh3.googleusercontent.com/a-/AOh14GitXB9uqeHn9LZHyp1jrvwlOpRiy4F4PmaqGsQu=s64",
      "userId": "13863323571485542434"
     },
     "user_tz": -60
    },
    "id": "NVgA6Qm_ZErB",
    "outputId": "e07f8bfd-7493-4515-934a-bdbfd76ad083"
   },
   "outputs": [
    {
     "data": {
      "text/html": [
       "<div>\n",
       "<style scoped>\n",
       "    .dataframe tbody tr th:only-of-type {\n",
       "        vertical-align: middle;\n",
       "    }\n",
       "\n",
       "    .dataframe tbody tr th {\n",
       "        vertical-align: top;\n",
       "    }\n",
       "\n",
       "    .dataframe thead th {\n",
       "        text-align: right;\n",
       "    }\n",
       "</style>\n",
       "<table border=\"1\" class=\"dataframe\">\n",
       "  <thead>\n",
       "    <tr style=\"text-align: right;\">\n",
       "      <th></th>\n",
       "      <th>abl</th>\n",
       "      <th>absolut</th>\n",
       "      <th>accept</th>\n",
       "      <th>access</th>\n",
       "      <th>account</th>\n",
       "      <th>act</th>\n",
       "      <th>activ</th>\n",
       "      <th>actual</th>\n",
       "      <th>ad</th>\n",
       "      <th>address</th>\n",
       "      <th>...</th>\n",
       "      <th>worth</th>\n",
       "      <th>write</th>\n",
       "      <th>wrong</th>\n",
       "      <th>wrote</th>\n",
       "      <th>yall</th>\n",
       "      <th>year</th>\n",
       "      <th>yesss</th>\n",
       "      <th>yesterday</th>\n",
       "      <th>young</th>\n",
       "      <th>youtub</th>\n",
       "    </tr>\n",
       "  </thead>\n",
       "  <tbody>\n",
       "    <tr>\n",
       "      <th>0</th>\n",
       "      <td>0.0</td>\n",
       "      <td>0.0</td>\n",
       "      <td>0.0</td>\n",
       "      <td>0.0</td>\n",
       "      <td>0.0</td>\n",
       "      <td>0.0</td>\n",
       "      <td>0.0</td>\n",
       "      <td>0.0</td>\n",
       "      <td>0.0</td>\n",
       "      <td>0.0</td>\n",
       "      <td>...</td>\n",
       "      <td>0.0</td>\n",
       "      <td>0.0</td>\n",
       "      <td>0.0</td>\n",
       "      <td>0.0</td>\n",
       "      <td>0.0</td>\n",
       "      <td>0.0</td>\n",
       "      <td>0.0</td>\n",
       "      <td>0.0</td>\n",
       "      <td>0.0</td>\n",
       "      <td>0.0</td>\n",
       "    </tr>\n",
       "    <tr>\n",
       "      <th>1</th>\n",
       "      <td>0.0</td>\n",
       "      <td>0.0</td>\n",
       "      <td>0.0</td>\n",
       "      <td>0.0</td>\n",
       "      <td>0.0</td>\n",
       "      <td>0.0</td>\n",
       "      <td>0.0</td>\n",
       "      <td>0.0</td>\n",
       "      <td>0.0</td>\n",
       "      <td>0.0</td>\n",
       "      <td>...</td>\n",
       "      <td>0.0</td>\n",
       "      <td>0.0</td>\n",
       "      <td>0.0</td>\n",
       "      <td>0.0</td>\n",
       "      <td>0.0</td>\n",
       "      <td>0.0</td>\n",
       "      <td>0.0</td>\n",
       "      <td>0.0</td>\n",
       "      <td>0.0</td>\n",
       "      <td>0.0</td>\n",
       "    </tr>\n",
       "    <tr>\n",
       "      <th>2</th>\n",
       "      <td>0.0</td>\n",
       "      <td>0.0</td>\n",
       "      <td>0.0</td>\n",
       "      <td>0.0</td>\n",
       "      <td>0.0</td>\n",
       "      <td>0.0</td>\n",
       "      <td>0.0</td>\n",
       "      <td>0.0</td>\n",
       "      <td>0.0</td>\n",
       "      <td>0.0</td>\n",
       "      <td>...</td>\n",
       "      <td>0.0</td>\n",
       "      <td>0.0</td>\n",
       "      <td>0.0</td>\n",
       "      <td>0.0</td>\n",
       "      <td>0.0</td>\n",
       "      <td>0.0</td>\n",
       "      <td>0.0</td>\n",
       "      <td>0.0</td>\n",
       "      <td>0.0</td>\n",
       "      <td>0.0</td>\n",
       "    </tr>\n",
       "    <tr>\n",
       "      <th>3</th>\n",
       "      <td>0.0</td>\n",
       "      <td>0.0</td>\n",
       "      <td>0.0</td>\n",
       "      <td>0.0</td>\n",
       "      <td>0.0</td>\n",
       "      <td>0.0</td>\n",
       "      <td>0.0</td>\n",
       "      <td>0.0</td>\n",
       "      <td>0.0</td>\n",
       "      <td>0.0</td>\n",
       "      <td>...</td>\n",
       "      <td>0.0</td>\n",
       "      <td>0.0</td>\n",
       "      <td>0.0</td>\n",
       "      <td>0.0</td>\n",
       "      <td>0.0</td>\n",
       "      <td>0.0</td>\n",
       "      <td>0.0</td>\n",
       "      <td>0.0</td>\n",
       "      <td>0.0</td>\n",
       "      <td>0.0</td>\n",
       "    </tr>\n",
       "    <tr>\n",
       "      <th>4</th>\n",
       "      <td>0.0</td>\n",
       "      <td>0.0</td>\n",
       "      <td>0.0</td>\n",
       "      <td>0.0</td>\n",
       "      <td>0.0</td>\n",
       "      <td>0.0</td>\n",
       "      <td>0.0</td>\n",
       "      <td>0.0</td>\n",
       "      <td>0.0</td>\n",
       "      <td>0.0</td>\n",
       "      <td>...</td>\n",
       "      <td>0.0</td>\n",
       "      <td>0.0</td>\n",
       "      <td>0.0</td>\n",
       "      <td>0.0</td>\n",
       "      <td>0.0</td>\n",
       "      <td>0.0</td>\n",
       "      <td>0.0</td>\n",
       "      <td>0.0</td>\n",
       "      <td>0.0</td>\n",
       "      <td>0.0</td>\n",
       "    </tr>\n",
       "  </tbody>\n",
       "</table>\n",
       "<p>5 rows × 1000 columns</p>\n",
       "</div>"
      ],
      "text/plain": [
       "   abl  absolut  accept  access  account  act  activ  actual   ad  address  \\\n",
       "0  0.0      0.0     0.0     0.0      0.0  0.0    0.0     0.0  0.0      0.0   \n",
       "1  0.0      0.0     0.0     0.0      0.0  0.0    0.0     0.0  0.0      0.0   \n",
       "2  0.0      0.0     0.0     0.0      0.0  0.0    0.0     0.0  0.0      0.0   \n",
       "3  0.0      0.0     0.0     0.0      0.0  0.0    0.0     0.0  0.0      0.0   \n",
       "4  0.0      0.0     0.0     0.0      0.0  0.0    0.0     0.0  0.0      0.0   \n",
       "\n",
       "   ...  worth  write  wrong  wrote  yall  year  yesss  yesterday  young  \\\n",
       "0  ...    0.0    0.0    0.0    0.0   0.0   0.0    0.0        0.0    0.0   \n",
       "1  ...    0.0    0.0    0.0    0.0   0.0   0.0    0.0        0.0    0.0   \n",
       "2  ...    0.0    0.0    0.0    0.0   0.0   0.0    0.0        0.0    0.0   \n",
       "3  ...    0.0    0.0    0.0    0.0   0.0   0.0    0.0        0.0    0.0   \n",
       "4  ...    0.0    0.0    0.0    0.0   0.0   0.0    0.0        0.0    0.0   \n",
       "\n",
       "   youtub  \n",
       "0     0.0  \n",
       "1     0.0  \n",
       "2     0.0  \n",
       "3     0.0  \n",
       "4     0.0  \n",
       "\n",
       "[5 rows x 1000 columns]"
      ]
     },
     "execution_count": 147,
     "metadata": {},
     "output_type": "execute_result"
    }
   ],
   "source": [
    "tf_idf_norm = normalize(tfidf)\n",
    "tf_idf_array = tf_idf_norm.toarray()\n",
    "\n",
    "vector = pd.DataFrame(tf_idf_array,\n",
    "                     columns = tfidf_vectorizer.get_feature_names())\n",
    "vector.head()"
   ]
  },
  {
   "cell_type": "code",
   "execution_count": 148,
   "metadata": {
    "colab": {
     "base_uri": "https://localhost:8080/",
     "height": 333
    },
    "executionInfo": {
     "elapsed": 3164,
     "status": "ok",
     "timestamp": 1607819490882,
     "user": {
      "displayName": "Yasmine Mejri",
      "photoUrl": "https://lh3.googleusercontent.com/a-/AOh14GitXB9uqeHn9LZHyp1jrvwlOpRiy4F4PmaqGsQu=s64",
      "userId": "13863323571485542434"
     },
     "user_tz": -60
    },
    "id": "ttpugVQcZjp_",
    "outputId": "81b817eb-baab-4fb5-b61a-4a4d60b5d40d"
   },
   "outputs": [
    {
     "data": {
      "text/html": [
       "<div>\n",
       "<style scoped>\n",
       "    .dataframe tbody tr th:only-of-type {\n",
       "        vertical-align: middle;\n",
       "    }\n",
       "\n",
       "    .dataframe tbody tr th {\n",
       "        vertical-align: top;\n",
       "    }\n",
       "\n",
       "    .dataframe thead th {\n",
       "        text-align: right;\n",
       "    }\n",
       "</style>\n",
       "<table border=\"1\" class=\"dataframe\">\n",
       "  <thead>\n",
       "    <tr style=\"text-align: right;\">\n",
       "      <th></th>\n",
       "      <th>abl</th>\n",
       "      <th>absolut</th>\n",
       "      <th>accept</th>\n",
       "      <th>access</th>\n",
       "      <th>account</th>\n",
       "      <th>act</th>\n",
       "      <th>activ</th>\n",
       "      <th>actual</th>\n",
       "      <th>ad</th>\n",
       "      <th>address</th>\n",
       "      <th>...</th>\n",
       "      <th>worth</th>\n",
       "      <th>write</th>\n",
       "      <th>wrong</th>\n",
       "      <th>wrote</th>\n",
       "      <th>yall</th>\n",
       "      <th>year</th>\n",
       "      <th>yesss</th>\n",
       "      <th>yesterday</th>\n",
       "      <th>young</th>\n",
       "      <th>youtub</th>\n",
       "    </tr>\n",
       "  </thead>\n",
       "  <tbody>\n",
       "    <tr>\n",
       "      <th>count</th>\n",
       "      <td>4452.000000</td>\n",
       "      <td>4452.000000</td>\n",
       "      <td>4452.000000</td>\n",
       "      <td>4452.000000</td>\n",
       "      <td>4452.000000</td>\n",
       "      <td>4452.000000</td>\n",
       "      <td>4452.000000</td>\n",
       "      <td>4452.000000</td>\n",
       "      <td>4452.000000</td>\n",
       "      <td>4452.000000</td>\n",
       "      <td>...</td>\n",
       "      <td>4452.000000</td>\n",
       "      <td>4452.000000</td>\n",
       "      <td>4452.000000</td>\n",
       "      <td>4452.000000</td>\n",
       "      <td>4452.000000</td>\n",
       "      <td>4452.000000</td>\n",
       "      <td>4452.000000</td>\n",
       "      <td>4452.000000</td>\n",
       "      <td>4452.000000</td>\n",
       "      <td>4452.000000</td>\n",
       "    </tr>\n",
       "    <tr>\n",
       "      <th>mean</th>\n",
       "      <td>0.001147</td>\n",
       "      <td>0.001774</td>\n",
       "      <td>0.000760</td>\n",
       "      <td>0.000434</td>\n",
       "      <td>0.003089</td>\n",
       "      <td>0.000629</td>\n",
       "      <td>0.001314</td>\n",
       "      <td>0.002872</td>\n",
       "      <td>0.000602</td>\n",
       "      <td>0.000890</td>\n",
       "      <td>...</td>\n",
       "      <td>0.000707</td>\n",
       "      <td>0.001355</td>\n",
       "      <td>0.001860</td>\n",
       "      <td>0.000615</td>\n",
       "      <td>0.000961</td>\n",
       "      <td>0.003461</td>\n",
       "      <td>0.000952</td>\n",
       "      <td>0.001200</td>\n",
       "      <td>0.000932</td>\n",
       "      <td>0.000815</td>\n",
       "    </tr>\n",
       "    <tr>\n",
       "      <th>std</th>\n",
       "      <td>0.022768</td>\n",
       "      <td>0.036042</td>\n",
       "      <td>0.018511</td>\n",
       "      <td>0.013086</td>\n",
       "      <td>0.039654</td>\n",
       "      <td>0.017898</td>\n",
       "      <td>0.028054</td>\n",
       "      <td>0.038651</td>\n",
       "      <td>0.015266</td>\n",
       "      <td>0.022332</td>\n",
       "      <td>...</td>\n",
       "      <td>0.020944</td>\n",
       "      <td>0.026447</td>\n",
       "      <td>0.032301</td>\n",
       "      <td>0.017576</td>\n",
       "      <td>0.023121</td>\n",
       "      <td>0.044285</td>\n",
       "      <td>0.028787</td>\n",
       "      <td>0.022423</td>\n",
       "      <td>0.023936</td>\n",
       "      <td>0.020227</td>\n",
       "    </tr>\n",
       "    <tr>\n",
       "      <th>min</th>\n",
       "      <td>0.000000</td>\n",
       "      <td>0.000000</td>\n",
       "      <td>0.000000</td>\n",
       "      <td>0.000000</td>\n",
       "      <td>0.000000</td>\n",
       "      <td>0.000000</td>\n",
       "      <td>0.000000</td>\n",
       "      <td>0.000000</td>\n",
       "      <td>0.000000</td>\n",
       "      <td>0.000000</td>\n",
       "      <td>...</td>\n",
       "      <td>0.000000</td>\n",
       "      <td>0.000000</td>\n",
       "      <td>0.000000</td>\n",
       "      <td>0.000000</td>\n",
       "      <td>0.000000</td>\n",
       "      <td>0.000000</td>\n",
       "      <td>0.000000</td>\n",
       "      <td>0.000000</td>\n",
       "      <td>0.000000</td>\n",
       "      <td>0.000000</td>\n",
       "    </tr>\n",
       "    <tr>\n",
       "      <th>25%</th>\n",
       "      <td>0.000000</td>\n",
       "      <td>0.000000</td>\n",
       "      <td>0.000000</td>\n",
       "      <td>0.000000</td>\n",
       "      <td>0.000000</td>\n",
       "      <td>0.000000</td>\n",
       "      <td>0.000000</td>\n",
       "      <td>0.000000</td>\n",
       "      <td>0.000000</td>\n",
       "      <td>0.000000</td>\n",
       "      <td>...</td>\n",
       "      <td>0.000000</td>\n",
       "      <td>0.000000</td>\n",
       "      <td>0.000000</td>\n",
       "      <td>0.000000</td>\n",
       "      <td>0.000000</td>\n",
       "      <td>0.000000</td>\n",
       "      <td>0.000000</td>\n",
       "      <td>0.000000</td>\n",
       "      <td>0.000000</td>\n",
       "      <td>0.000000</td>\n",
       "    </tr>\n",
       "    <tr>\n",
       "      <th>50%</th>\n",
       "      <td>0.000000</td>\n",
       "      <td>0.000000</td>\n",
       "      <td>0.000000</td>\n",
       "      <td>0.000000</td>\n",
       "      <td>0.000000</td>\n",
       "      <td>0.000000</td>\n",
       "      <td>0.000000</td>\n",
       "      <td>0.000000</td>\n",
       "      <td>0.000000</td>\n",
       "      <td>0.000000</td>\n",
       "      <td>...</td>\n",
       "      <td>0.000000</td>\n",
       "      <td>0.000000</td>\n",
       "      <td>0.000000</td>\n",
       "      <td>0.000000</td>\n",
       "      <td>0.000000</td>\n",
       "      <td>0.000000</td>\n",
       "      <td>0.000000</td>\n",
       "      <td>0.000000</td>\n",
       "      <td>0.000000</td>\n",
       "      <td>0.000000</td>\n",
       "    </tr>\n",
       "    <tr>\n",
       "      <th>75%</th>\n",
       "      <td>0.000000</td>\n",
       "      <td>0.000000</td>\n",
       "      <td>0.000000</td>\n",
       "      <td>0.000000</td>\n",
       "      <td>0.000000</td>\n",
       "      <td>0.000000</td>\n",
       "      <td>0.000000</td>\n",
       "      <td>0.000000</td>\n",
       "      <td>0.000000</td>\n",
       "      <td>0.000000</td>\n",
       "      <td>...</td>\n",
       "      <td>0.000000</td>\n",
       "      <td>0.000000</td>\n",
       "      <td>0.000000</td>\n",
       "      <td>0.000000</td>\n",
       "      <td>0.000000</td>\n",
       "      <td>0.000000</td>\n",
       "      <td>0.000000</td>\n",
       "      <td>0.000000</td>\n",
       "      <td>0.000000</td>\n",
       "      <td>0.000000</td>\n",
       "    </tr>\n",
       "    <tr>\n",
       "      <th>max</th>\n",
       "      <td>0.631884</td>\n",
       "      <td>1.000000</td>\n",
       "      <td>0.694882</td>\n",
       "      <td>0.485284</td>\n",
       "      <td>1.000000</td>\n",
       "      <td>0.740700</td>\n",
       "      <td>1.000000</td>\n",
       "      <td>1.000000</td>\n",
       "      <td>0.453879</td>\n",
       "      <td>0.771783</td>\n",
       "      <td>...</td>\n",
       "      <td>1.000000</td>\n",
       "      <td>0.717330</td>\n",
       "      <td>1.000000</td>\n",
       "      <td>0.716520</td>\n",
       "      <td>0.721363</td>\n",
       "      <td>1.000000</td>\n",
       "      <td>1.000000</td>\n",
       "      <td>0.680656</td>\n",
       "      <td>1.000000</td>\n",
       "      <td>0.721363</td>\n",
       "    </tr>\n",
       "  </tbody>\n",
       "</table>\n",
       "<p>8 rows × 1000 columns</p>\n",
       "</div>"
      ],
      "text/plain": [
       "               abl      absolut       accept       access      account  \\\n",
       "count  4452.000000  4452.000000  4452.000000  4452.000000  4452.000000   \n",
       "mean      0.001147     0.001774     0.000760     0.000434     0.003089   \n",
       "std       0.022768     0.036042     0.018511     0.013086     0.039654   \n",
       "min       0.000000     0.000000     0.000000     0.000000     0.000000   \n",
       "25%       0.000000     0.000000     0.000000     0.000000     0.000000   \n",
       "50%       0.000000     0.000000     0.000000     0.000000     0.000000   \n",
       "75%       0.000000     0.000000     0.000000     0.000000     0.000000   \n",
       "max       0.631884     1.000000     0.694882     0.485284     1.000000   \n",
       "\n",
       "               act        activ       actual           ad      address  ...  \\\n",
       "count  4452.000000  4452.000000  4452.000000  4452.000000  4452.000000  ...   \n",
       "mean      0.000629     0.001314     0.002872     0.000602     0.000890  ...   \n",
       "std       0.017898     0.028054     0.038651     0.015266     0.022332  ...   \n",
       "min       0.000000     0.000000     0.000000     0.000000     0.000000  ...   \n",
       "25%       0.000000     0.000000     0.000000     0.000000     0.000000  ...   \n",
       "50%       0.000000     0.000000     0.000000     0.000000     0.000000  ...   \n",
       "75%       0.000000     0.000000     0.000000     0.000000     0.000000  ...   \n",
       "max       0.740700     1.000000     1.000000     0.453879     0.771783  ...   \n",
       "\n",
       "             worth        write        wrong        wrote         yall  \\\n",
       "count  4452.000000  4452.000000  4452.000000  4452.000000  4452.000000   \n",
       "mean      0.000707     0.001355     0.001860     0.000615     0.000961   \n",
       "std       0.020944     0.026447     0.032301     0.017576     0.023121   \n",
       "min       0.000000     0.000000     0.000000     0.000000     0.000000   \n",
       "25%       0.000000     0.000000     0.000000     0.000000     0.000000   \n",
       "50%       0.000000     0.000000     0.000000     0.000000     0.000000   \n",
       "75%       0.000000     0.000000     0.000000     0.000000     0.000000   \n",
       "max       1.000000     0.717330     1.000000     0.716520     0.721363   \n",
       "\n",
       "              year        yesss    yesterday        young       youtub  \n",
       "count  4452.000000  4452.000000  4452.000000  4452.000000  4452.000000  \n",
       "mean      0.003461     0.000952     0.001200     0.000932     0.000815  \n",
       "std       0.044285     0.028787     0.022423     0.023936     0.020227  \n",
       "min       0.000000     0.000000     0.000000     0.000000     0.000000  \n",
       "25%       0.000000     0.000000     0.000000     0.000000     0.000000  \n",
       "50%       0.000000     0.000000     0.000000     0.000000     0.000000  \n",
       "75%       0.000000     0.000000     0.000000     0.000000     0.000000  \n",
       "max       1.000000     1.000000     0.680656     1.000000     0.721363  \n",
       "\n",
       "[8 rows x 1000 columns]"
      ]
     },
     "execution_count": 148,
     "metadata": {},
     "output_type": "execute_result"
    }
   ],
   "source": [
    "vector.describe()"
   ]
  },
  {
   "cell_type": "markdown",
   "metadata": {
    "id": "Y-Px-imIYePC"
   },
   "source": [
    "Model Building"
   ]
  },
  {
   "cell_type": "code",
   "execution_count": 149,
   "metadata": {
    "id": "n9HR1CLHYY-G"
   },
   "outputs": [],
   "source": [
    "class Kmeans:\n",
    "    ''' K Means Clustering\n",
    "    \n",
    "    Parameters\n",
    "    -------------------\n",
    "        k: int, # of clusters\n",
    "        <\n",
    "        seed: int, will be randomly set if None\n",
    "        \n",
    "        max_iter: int, number of iterations to run algorithms, default: 200\n",
    "        \n",
    "    Attributes\n",
    "    ------------------\n",
    "        centroids: array, k, number_features\n",
    "        \n",
    "        cluster_labels: label for each data point\n",
    "        \n",
    "    '''\n",
    "    \n",
    "    def __init__(self, k, seed = None, max_iter = 200):\n",
    "        self.k = k\n",
    "        self.seed = seed\n",
    "        if self.seed is not None:\n",
    "            np.random.seed(self.seed)\n",
    "        self.max_iter = max_iter\n",
    "        \n",
    "    def intialize_centroids(self,data):\n",
    "        \n",
    "        '''Randomly Initialize Centroids\n",
    "        \n",
    "        Parameters\n",
    "        --------------\n",
    "        data: array or matrix, number_rows, number_features\n",
    "        \n",
    "        Returns\n",
    "        -------------\n",
    "        centroids: array of k centroids chosen as random data points\n",
    "        '''\n",
    "        \n",
    "        initial_centroids = np.random.permutation(data.shape[0])[:self.k]\n",
    "        self.centroids = data[initial_centroids]\n",
    "        \n",
    "        return self.centroids\n",
    "    \n",
    "    def assign_clusters(self,data):\n",
    "        '''Compute distance of data from clusters and assign data point \n",
    "        to closest cluster.\n",
    "        \n",
    "        Parameters \n",
    "        ------------\n",
    "        data: array or matrix, number_rows, number_features\n",
    "        \n",
    "        Returns \n",
    "        ------------\n",
    "        cluster_labels: index which minimizes the distance of data to each cluster\n",
    "        \n",
    "        '''\n",
    "        \n",
    "        if data.ndim == 1:\n",
    "            data = data.reshape(-1,1)\n",
    "            \n",
    "        dist_to_centroid = pairwise_distances(data,self.centroids, metric = 'euclidean')\n",
    "        self.cluster_labels = np.argmin(dist_to_centroid, axis = 1)\n",
    "        \n",
    "        return self.cluster_labels\n",
    "    \n",
    "    def update_centroids(self,data):\n",
    "        '''Computes average of all data points in cluster and assigns \n",
    "           new centroids as average of data points\n",
    "           \n",
    "           Parameters\n",
    "           -------------\n",
    "           data: array or matirx, number_rows, number_features\n",
    "           \n",
    "           Returns\n",
    "           -------------\n",
    "           centroids: array, k, number_features\n",
    "           '''\n",
    "        \n",
    "        self.centroids = np.array([data[self.cluster_labels == i].mean(axis = 0) for i in range(self.k)])\n",
    "        return self.centroids\n",
    "    \n",
    "    def predict(self,data):\n",
    "        '''Predict which cluster data point belongs to\n",
    "        \n",
    "        Parameters\n",
    "        --------------\n",
    "        data: array or matirx, number_rows, number_features\n",
    "        \n",
    "        Returns\n",
    "        -------------\n",
    "        cluster_labels: index which minimizes the distance of data to each\n",
    "        cluster\n",
    "        '''\n",
    "        \n",
    "        return self.assign_clusters(data)\n",
    "    \n",
    "    def fit_kmeans(self, data):\n",
    "        '''\n",
    "        This function contains the main loop to fit the algorithm\n",
    "        Implements initialize centroids and update_centroids according \n",
    "        to max_iter\n",
    "        ---------------------\n",
    "        \n",
    "        Returns\n",
    "        ------------\n",
    "        instance of kmeans class\n",
    "        \n",
    "        '''\n",
    "        self.centroids = self.intialize_centroids(data)\n",
    "        \n",
    "        # Main kmeans loop\n",
    "        for iter in range(self.max_iter):\n",
    "            self.cluster_labels = self.assign_clusters(data)\n",
    "            self.centroids = self.update_centroids(data)\n",
    "            if iter % 100 == 0:\n",
    "                print('Running Model Iteration %d ' %iter)\n",
    "        print('Model finished running')\n",
    "        return self"
   ]
  },
  {
   "cell_type": "code",
   "execution_count": 150,
   "metadata": {
    "colab": {
     "base_uri": "https://localhost:8080/",
     "height": 399
    },
    "executionInfo": {
     "elapsed": 2011,
     "status": "ok",
     "timestamp": 1607819551503,
     "user": {
      "displayName": "Yasmine Mejri",
      "photoUrl": "https://lh3.googleusercontent.com/a-/AOh14GitXB9uqeHn9LZHyp1jrvwlOpRiy4F4PmaqGsQu=s64",
      "userId": "13863323571485542434"
     },
     "user_tz": -60
    },
    "id": "wU9palteN9sN",
    "outputId": "04bdbdc4-8885-4d50-ba9e-ea70f77bf9f5"
   },
   "outputs": [
    {
     "name": "stdout",
     "output_type": "stream",
     "text": [
      "Running Model Iteration 0 \n",
      "Running Model Iteration 100 \n",
      "Running Model Iteration 200 \n",
      "Running Model Iteration 300 \n",
      "Running Model Iteration 400 \n",
      "Running Model Iteration 500 \n",
      "Model finished running\n"
     ]
    },
    {
     "data": {
      "text/plain": [
       "<matplotlib.collections.PathCollection at 0x7f2347a9bad0>"
      ]
     },
     "execution_count": 150,
     "metadata": {},
     "output_type": "execute_result"
    },
    {
     "data": {
      "image/png": "[encoded data removed]",
      "text/plain": [
       "<Figure size 432x288 with 1 Axes>"
      ]
     },
     "metadata": {
      "needs_background": "light"
     },
     "output_type": "display_data"
    }
   ],
   "source": [
    "# Own Impementation\n",
    "\n",
    "sklearn_pca = PCA(n_components = 2)\n",
    "Y_sklearn = sklearn_pca.fit_transform(tf_idf_array)\n",
    "test_e = Kmeans(3, 1, 600)\n",
    "fitted = test_e.fit_kmeans(Y_sklearn)\n",
    "predicted_values = test_e.predict(Y_sklearn)\n",
    "\n",
    "plt.scatter(Y_sklearn[:, 0], Y_sklearn[:, 1], c=predicted_values, s=50, cmap='viridis')\n",
    "\n",
    "centers = fitted.centroids\n",
    "plt.scatter(centers[:, 0], centers[:, 1],c='black', s=300, alpha=0.5)"
   ]
  },
  {
   "cell_type": "code",
   "execution_count": 151,
   "metadata": {
    "colab": {
     "base_uri": "https://localhost:8080/",
     "height": 282
    },
    "executionInfo": {
     "elapsed": 1706,
     "status": "ok",
     "timestamp": 1607819559589,
     "user": {
      "displayName": "Yasmine Mejri",
      "photoUrl": "https://lh3.googleusercontent.com/a-/AOh14GitXB9uqeHn9LZHyp1jrvwlOpRiy4F4PmaqGsQu=s64",
      "userId": "13863323571485542434"
     },
     "user_tz": -60
    },
    "id": "ozQ0mgACaW-4",
    "outputId": "8866da0f-b20a-4b94-e276-a685a4956d55"
   },
   "outputs": [
    {
     "data": {
      "text/plain": [
       "<matplotlib.collections.PathCollection at 0x7f2344388b90>"
      ]
     },
     "execution_count": 151,
     "metadata": {},
     "output_type": "execute_result"
    },
    {
     "data": {
      "image/png": "[encoded data removed]",
      "text/plain": [
       "<Figure size 432x288 with 1 Axes>"
      ]
     },
     "metadata": {
      "needs_background": "light"
     },
     "output_type": "display_data"
    }
   ],
   "source": [
    "# SKlearn implementation\n",
    "\n",
    "sklearn_pca = PCA(n_components = 2)\n",
    "Y_sklearn = sklearn_pca.fit_transform(tf_idf_array)\n",
    "kmeans = KMeans(n_clusters=3, max_iter=600, algorithm = 'auto') \n",
    "fitted = kmeans.fit(Y_sklearn)\n",
    "kmeans_prediction = kmeans.predict(Y_sklearn)\n",
    "\n",
    "skcenters = fitted.cluster_centers_\n",
    "\n",
    "plt.scatter(Y_sklearn[:, 0], Y_sklearn[:, 1], c=kmeans_prediction, s=50, cmap='viridis')\n",
    "plt.scatter(skcenters[:, 0], skcenters[:, 1], c='black', s=300, alpha=0.5)"
   ]
  },
  {
   "cell_type": "code",
   "execution_count": 152,
   "metadata": {
    "colab": {
     "base_uri": "https://localhost:8080/",
     "height": 295
    },
    "executionInfo": {
     "elapsed": 10897,
     "status": "ok",
     "timestamp": 1607819575203,
     "user": {
      "displayName": "Yasmine Mejri",
      "photoUrl": "https://lh3.googleusercontent.com/a-/AOh14GitXB9uqeHn9LZHyp1jrvwlOpRiy4F4PmaqGsQu=s64",
      "userId": "13863323571485542434"
     },
     "user_tz": -60
    },
    "id": "HHqb0UrhaiON",
    "outputId": "073bd7d4-f382-4868-bc2b-a0c2c64d7c71"
   },
   "outputs": [
    {
     "data": {
      "image/png": "[encoded data removed]",
      "text/plain": [
       "<Figure size 432x288 with 1 Axes>"
      ]
     },
     "metadata": {
      "needs_background": "light"
     },
     "output_type": "display_data"
    }
   ],
   "source": [
    "# find out ideal number of clusters using Elbow Method\n",
    "num_clusters = range(3, 30)\n",
    "\n",
    "kmeans = [KMeans(n_clusters=i, max_iter = 600) for i in num_clusters]\n",
    "kmeans\n",
    "\n",
    "score = [kmeans[i].fit(Y_sklearn).score(Y_sklearn) for i in range(len(kmeans))]\n",
    "score\n",
    "\n",
    "plt.plot(num_clusters, score)\n",
    "plt.xlabel('# of Clusters')\n",
    "plt.ylabel('Score')\n",
    "plt.title('Elbow Method')\n",
    "plt.show()"
   ]
  },
  {
   "cell_type": "markdown",
   "metadata": {
    "id": "sckZHNX-awB_"
   },
   "source": [
    "Top Words in Each Cluster: KMeans¶\n"
   ]
  },
  {
   "cell_type": "code",
   "execution_count": 153,
   "metadata": {
    "id": "ZUpKVPAtasbJ"
   },
   "outputs": [],
   "source": [
    "# function that identifies the features with the highest mean tf_idf \n",
    "# scores across each cluster\n",
    "def get_top_feats_cluster(tf_idf_array, prediction, n_feats):\n",
    "    labels = np.unique(prediction)\n",
    "    dfs = []\n",
    "    for label in labels:\n",
    "        id_temp = np.where(prediction==label) # indices for each cluster\n",
    "        x_means = np.mean(tf_idf_array[id_temp], axis = 0) # returns average score across cluster\n",
    "        sorted_means = np.argsort(x_means)[::-1][:n_feats] # indices with top 20 scores\n",
    "        feats = tfidf_vectorizer.get_feature_names()\n",
    "        best_feats = [(feats[i], x_means[i]) for i in sorted_means]\n",
    "        df = pd.DataFrame(best_feats, columns = ['features', 'score'])\n",
    "        dfs.append(df)\n",
    "    return dfs\n",
    "\n",
    "kmeans_dfs = get_top_feats_cluster(tf_idf_array, kmeans_prediction, 15)\n"
   ]
  },
  {
   "cell_type": "code",
   "execution_count": 154,
   "metadata": {
    "colab": {
     "base_uri": "https://localhost:8080/",
     "height": 388
    },
    "executionInfo": {
     "elapsed": 827,
     "status": "ok",
     "timestamp": 1607819585007,
     "user": {
      "displayName": "Yasmine Mejri",
      "photoUrl": "https://lh3.googleusercontent.com/a-/AOh14GitXB9uqeHn9LZHyp1jrvwlOpRiy4F4PmaqGsQu=s64",
      "userId": "13863323571485542434"
     },
     "user_tz": -60
    },
    "id": "bUxS61-jbI66",
    "outputId": "a7b792d3-dcca-4f32-b181-78a758185db3"
   },
   "outputs": [
    {
     "data": {
      "image/png": "[encoded data removed]",
      "text/plain": [
       "<Figure size 576x432 with 1 Axes>"
      ]
     },
     "metadata": {
      "needs_background": "light"
     },
     "output_type": "display_data"
    }
   ],
   "source": [
    "#Cluster 1¶\n",
    "plt.figure(figsize=(8,6))\n",
    "sns.barplot(x='score', y='features',data=kmeans_dfs[0][:15]);"
   ]
  },
  {
   "cell_type": "code",
   "execution_count": 155,
   "metadata": {
    "colab": {
     "base_uri": "https://localhost:8080/",
     "height": 388
    },
    "executionInfo": {
     "elapsed": 821,
     "status": "ok",
     "timestamp": 1607819619260,
     "user": {
      "displayName": "Yasmine Mejri",
      "photoUrl": "https://lh3.googleusercontent.com/a-/AOh14GitXB9uqeHn9LZHyp1jrvwlOpRiy4F4PmaqGsQu=s64",
      "userId": "13863323571485542434"
     },
     "user_tz": -60
    },
    "id": "APw9ECwxbQ0A",
    "outputId": "521c0716-5636-40e4-aa40-2165b6cb62c6"
   },
   "outputs": [
    {
     "data": {
      "image/png": "[encoded data removed]",
      "text/plain": [
       "<Figure size 576x432 with 1 Axes>"
      ]
     },
     "metadata": {
      "needs_background": "light"
     },
     "output_type": "display_data"
    }
   ],
   "source": [
    "#Cluster 2\n",
    "plt.figure(figsize=(8,6))\n",
    "sns.barplot(x='score', y='features',data=kmeans_dfs[1][:15]);"
   ]
  },
  {
   "cell_type": "code",
   "execution_count": 156,
   "metadata": {
    "colab": {
     "base_uri": "https://localhost:8080/",
     "height": 388
    },
    "executionInfo": {
     "elapsed": 965,
     "status": "ok",
     "timestamp": 1607819609882,
     "user": {
      "displayName": "Yasmine Mejri",
      "photoUrl": "https://lh3.googleusercontent.com/a-/AOh14GitXB9uqeHn9LZHyp1jrvwlOpRiy4F4PmaqGsQu=s64",
      "userId": "13863323571485542434"
     },
     "user_tz": -60
    },
    "id": "GyQqZySnbV9S",
    "outputId": "2ffc3ece-b639-4689-fbbf-7d81213d604d"
   },
   "outputs": [
    {
     "data": {
      "image/png": "[encoded data removed]",
      "text/plain": [
       "<Figure size 576x432 with 1 Axes>"
      ]
     },
     "metadata": {
      "needs_background": "light"
     },
     "output_type": "display_data"
    }
   ],
   "source": [
    "#Cluster 3\n",
    "plt.figure(figsize=(8,6))\n",
    "sns.barplot(x='score', y='features',data=kmeans_dfs[2][:15]);"
   ]
  },
  {
   "cell_type": "code",
   "execution_count": 157,
   "metadata": {
    "id": "BjcavyY8bwem"
   },
   "outputs": [],
   "source": [
    "words = tfidf_vectorizer.get_feature_names()"
   ]
  },
  {
   "cell_type": "code",
   "execution_count": 160,
   "metadata": {
    "colab": {
     "base_uri": "https://localhost:8080/"
    },
    "executionInfo": {
     "elapsed": 1059,
     "status": "ok",
     "timestamp": 1607819634569,
     "user": {
      "displayName": "Yasmine Mejri",
      "photoUrl": "https://lh3.googleusercontent.com/a-/AOh14GitXB9uqeHn9LZHyp1jrvwlOpRiy4F4PmaqGsQu=s64",
      "userId": "13863323571485542434"
     },
     "user_tz": -60
    },
    "id": "hTr7a-lsbu-n",
    "outputId": "bf4f6840-9652-4f8a-8c7c-7ef9bbbd9c8a"
   },
   "outputs": [
    {
     "name": "stdout",
     "output_type": "stream",
     "text": [
      "['easi', 'edit', 'educ', 'elect', 'elit', 'els', 'embarrass', 'emot', 'end', 'energi', 'english', 'enjoy', 'entir', 'episod', 'especi', 'event', 'everi', 'everybodi', 'everyday', 'everyon', 'everyth', 'everywher', 'evid', 'evil', 'exactli', 'exam', 'excit', 'excus', 'exhaust', 'exist', 'expect', 'experi', 'expert', 'explain', 'extra', 'eye', 'face', 'fact', 'fail', 'fair', 'faith', 'fake', 'fall', 'famili', 'fan', 'farmer', 'fast', 'father', 'fault', 'fave']\n"
     ]
    }
   ],
   "source": [
    "print(words[250:300])\n"
   ]
  },
  {
   "cell_type": "code",
   "execution_count": 161,
   "metadata": {
    "colab": {
     "base_uri": "https://localhost:8080/"
    },
    "executionInfo": {
     "elapsed": 6122,
     "status": "ok",
     "timestamp": 1607819644709,
     "user": {
      "displayName": "Yasmine Mejri",
      "photoUrl": "https://lh3.googleusercontent.com/a-/AOh14GitXB9uqeHn9LZHyp1jrvwlOpRiy4F4PmaqGsQu=s64",
      "userId": "13863323571485542434"
     },
     "user_tz": -60
    },
    "id": "oUwsrryCcWWA",
    "outputId": "e217d3bf-b57a-43de-d13b-c62355766e33"
   },
   "outputs": [
    {
     "name": "stdout",
     "output_type": "stream",
     "text": [
      "0 : love, good, think, want, know, need, time, pleas, make, morn, look, peopl, come, miss, realli, shit, feel, wait, happi, work, sleep, great, best, stop, gonna\n",
      "1 : like, look, feel, realli, sound, make, thing, think, charact, peopl, girl, tweet, tell, want, love, follow, need, alway, shit, caus, mani, comment, minut, watch, right\n",
      "2 : thank, hope, love, fine, good, delet, follow, hate, cuti, heartbreak, blame, kindli, closet, comfort, awak, thread, album, remind, share, littl, mani, noth, friend, post, lucki\n"
     ]
    }
   ],
   "source": [
    "kmeans = KMeans(n_clusters = 3, n_init = 20, n_jobs = 1) # n_init(number of iterations for clsutering) n_jobs(number of cpu cores to use)\n",
    "kmeans.fit(tf_idf_array)\n",
    "# We look at 3 the clusters generated by k-means.\n",
    "common_words = kmeans.cluster_centers_.argsort()[:,-1:-26:-1]\n",
    "for num, centroid in enumerate(common_words):\n",
    "    print(str(num) + ' : ' + ', '.join(words[word] for word in centroid))"
   ]
  },
  {
   "cell_type": "code",
   "execution_count": 162,
   "metadata": {
    "colab": {
     "base_uri": "https://localhost:8080/"
    },
    "executionInfo": {
     "elapsed": 9151,
     "status": "ok",
     "timestamp": 1607819661193,
     "user": {
      "displayName": "Yasmine Mejri",
      "photoUrl": "https://lh3.googleusercontent.com/a-/AOh14GitXB9uqeHn9LZHyp1jrvwlOpRiy4F4PmaqGsQu=s64",
      "userId": "13863323571485542434"
     },
     "user_tz": -60
    },
    "id": "c_WcwMWMc3l4",
    "outputId": "2ab1ac52-ad73-4d89-86b3-d2efcc07c4a2"
   },
   "outputs": [
    {
     "name": "stdout",
     "output_type": "stream",
     "text": [
      "0 : like, think, know, time, make, look, realli, peopl, feel, shit, miss, come, happi, work, wait, gonna, best, watch, great, stop, thing, right, sleep, follow, alway\n",
      "1 : want, pleas, sleep, come, like, play, peopl, time, look, mood, send, person, right, dont, think, watch, tweet, tell, feel, match, girl, share, account, money, help\n",
      "2 : thank, good, morn, hope, night, luck, afternoon, soon, friend, damn, thing, look, care, today, point, news, fine, kindli, noth, kind, christma, think, feel, delet, everyon\n",
      "3 : love, stori, alway, thank, life, wanna, good, hope, hanbin, power, miss, tell, hate, natur, come, right, trump, like, understand, human, amaz, morn, make, everyon, beauti\n",
      "4 : need, backup, battl, help, bahamut, life, like, say, time, feel, complet, friend, sleep, peopl, sold, anyth, alway, work, line, drag, love, realli, use, alreadi, know\n"
     ]
    }
   ],
   "source": [
    "kmeans = KMeans(n_clusters = 5, n_init = 20, n_jobs = 1)\n",
    "kmeans.fit(tf_idf_array)\n",
    "# We look at 5 the clusters generated by k-means.\n",
    "common_words = kmeans.cluster_centers_.argsort()[:,-1:-26:-1]\n",
    "for num, centroid in enumerate(common_words):\n",
    "    print(str(num) + ' : ' + ', '.join(words[word] for word in centroid))"
   ]
  },
  {
   "cell_type": "code",
   "execution_count": 163,
   "metadata": {
    "colab": {
     "base_uri": "https://localhost:8080/"
    },
    "executionInfo": {
     "elapsed": 12040,
     "status": "ok",
     "timestamp": 1607819677684,
     "user": {
      "displayName": "Yasmine Mejri",
      "photoUrl": "https://lh3.googleusercontent.com/a-/AOh14GitXB9uqeHn9LZHyp1jrvwlOpRiy4F4PmaqGsQu=s64",
      "userId": "13863323571485542434"
     },
     "user_tz": -60
    },
    "id": "l28KVrdxc-_M",
    "outputId": "bbc20f1f-d304-4dc6-b73d-71b1aa5bdf8f"
   },
   "outputs": [
    {
     "name": "stdout",
     "output_type": "stream",
     "text": [
      "0 : love, need, know, time, make, look, miss, peopl, happi, wait, work, best, feel, realli, great, stop, gonna, sleep, right, watch, alway, help, better, nice, follow\n",
      "1 : like, look, feel, realli, make, sound, tell, love, follow, comment, thing, minut, peopl, need, morn, mani, girl, life, tweet, annoy, watch, work, dress, tast, help\n",
      "2 : good, morn, luck, night, hope, thing, look, damn, love, care, today, know, point, afternoon, friend, news, make, great, soon, feel, wednesday, happen, pretti, movi, super\n",
      "3 : mind, lose, open, come, long, machin, thank, need, stick, realli, feel, someth, stori, care, fish, time, return, busi, finger, selfi, gonna, button, pictur, cover, togeth\n",
      "4 : want, time, like, sleep, dont, right, money, movi, good, peopl, girl, idea, know, corner, problem, nobodi, wait, stori, sinc, make, word, listen, fail, alway, child\n",
      "5 : come, pretti, hope, soon, sure, thing, realli, today, fuck, talk, gonna, power, love, like, thank, wait, send, say, live, ask, anyth, day, miss, goe, know\n",
      "6 : pleas, play, come, tweet, mood, match, share, person, send, gift, look, watch, peopl, cute, schedul, donat, feel, noth, account, promis, tell, remov, attack, sleep, love\n",
      "7 : think, know, peopl, stop, time, like, someth, use, gonna, stuff, pretti, bout, voic, home, make, imagin, star, mani, point, thing, pictur, night, tomorrow, physic, littl\n",
      "8 : thank, hope, love, fine, good, delet, follow, hate, cuti, heartbreak, blame, kindli, closet, comfort, awak, thread, album, remind, share, littl, mani, noth, friend, post, lucki\n",
      "9 : shit, holi, realli, fuck, like, alway, mean, know, bore, treat, liter, good, went, gone, wait, loser, whatev, sick, season, pleas, close, use, said, happen, fuckin\n"
     ]
    }
   ],
   "source": [
    "kmeans = KMeans(n_clusters = 10, n_init = 20, n_jobs = 1)\n",
    "kmeans.fit(tf_idf_array)\n",
    "# We look at 5 the clusters generated by k-means.\n",
    "common_words = kmeans.cluster_centers_.argsort()[:,-1:-26:-1]\n",
    "for num, centroid in enumerate(common_words):\n",
    "    print(str(num) + ' : ' + ', '.join(words[word] for word in centroid))"
   ]
  },
  {
   "cell_type": "code",
   "execution_count": 164,
   "metadata": {
    "colab": {
     "base_uri": "https://localhost:8080/"
    },
    "executionInfo": {
     "elapsed": 15218,
     "status": "ok",
     "timestamp": 1607819724469,
     "user": {
      "displayName": "Yasmine Mejri",
      "photoUrl": "https://lh3.googleusercontent.com/a-/AOh14GitXB9uqeHn9LZHyp1jrvwlOpRiy4F4PmaqGsQu=s64",
      "userId": "13863323571485542434"
     },
     "user_tz": -60
    },
    "id": "148-3A06dK6K",
    "outputId": "75484c01-5177-4acc-be5a-da163f67c0d3"
   },
   "outputs": [
    {
     "name": "stdout",
     "output_type": "stream",
     "text": [
      "0 : wing, cours, enjoy, like, work, come, shit, cute, song, wanna, read, vibe, rain, tast, wake, scene, kiss, laugh, backup, place, music, star, holiday, voic, middl\n",
      "1 : mouth, leav, someth, friday, friend, fuck, fuckin, funni, youtub, free, futur, gain, game, gave, gener, gift, freedom, form, forward, glad, forgot, forget, foreign, forc, fool\n",
      "2 : like, think, want, know, need, look, make, peopl, realli, work, best, happi, wait, stop, sleep, great, right, alway, watch, better, follow, thing, girl, nice, talk\n",
      "3 : gonna, watch, make, honestli, think, say, wait, everyth, stop, come, thing, peopl, photo, lip, fix, shower, lord, wear, like, phone, game, damn, stream, tell, sure\n",
      "4 : help, need, send, ignor, pleas, home, sure, kid, gain, someon, wish, speak, joke, realli, homi, like, okay, bring, winter, anyon, attack, post, gotta, scream, shit\n",
      "5 : morn, wake, dark, make, like, great, tough, mate, pink, blue, gotta, start, enjoy, noth, minut, photo, upset, gain, besti, struggl, retweet, shower, schedul, anim, anyon\n",
      "6 : shit, holi, realli, like, alway, mean, fuck, know, bore, treat, liter, good, went, wait, loser, whatev, sick, season, pleas, close, use, fuckin, high, glad, promis\n",
      "7 : love, stori, alway, power, tell, hate, trump, like, color, crush, queen, dude, danc, peac, nope, king, hanbin, content, congrat, anymor, join, updat, away, free, babi\n",
      "8 : gorgeou, stun, hard, alway, know, make, realli, hope, happi, wait, friend, nice, post, read, help, right, best, rest, account, fine, wonder, free, game, music, mind\n",
      "9 : time, everi, right, long, want, watch, need, year, asleep, best, make, thing, think, twitter, shine, hold, proud, like, stori, school, room, littl, girl, great, sleep\n",
      "10 : feel, come, like, soon, mind, realli, wanna, want, love, know, hope, thing, hard, ask, wait, anyth, year, need, pain, make, power, lose, emot, sleep, wrong\n",
      "11 : miss, shot, scare, happi, love, jungkook, door, king, besti, dont, point, actual, sinc, thing, use, play, damn, come, illeg, return, mama, write, ride, birthday, state\n",
      "12 : thank, hope, love, fine, good, delet, follow, hate, cuti, heartbreak, blame, kindli, closet, comfort, awak, thread, album, remind, share, littl, mani, noth, friend, post, annoy\n",
      "13 : pleas, play, tweet, match, share, person, send, gift, look, watch, peopl, cute, schedul, noth, think, account, come, promis, tell, remov, attack, sleep, love, boss, contact\n",
      "14 : good, morn, luck, night, hope, look, thing, damn, love, care, today, point, afternoon, friend, news, make, great, soon, think, feel, wednesday, pretti, question, movi, super\n"
     ]
    }
   ],
   "source": [
    "kmeans = KMeans(n_clusters = 15, n_init = 20, n_jobs = 1)\n",
    "kmeans.fit(tf_idf_array)\n",
    "# We look at 5 the clusters generated by k-means.\n",
    "common_words = kmeans.cluster_centers_.argsort()[:,-1:-26:-1]\n",
    "for num, centroid in enumerate(common_words):\n",
    "    print(str(num) + ' : ' + ', '.join(words[word] for word in centroid))"
   ]
  },
  {
   "cell_type": "code",
   "execution_count": 165,
   "metadata": {
    "colab": {
     "base_uri": "https://localhost:8080/"
    },
    "executionInfo": {
     "elapsed": 19385,
     "status": "ok",
     "timestamp": 1607819777523,
     "user": {
      "displayName": "Yasmine Mejri",
      "photoUrl": "https://lh3.googleusercontent.com/a-/AOh14GitXB9uqeHn9LZHyp1jrvwlOpRiy4F4PmaqGsQu=s64",
      "userId": "13863323571485542434"
     },
     "user_tz": -60
    },
    "id": "sqhSRN_7dPVl",
    "outputId": "79f39993-6b33-46c1-fc73-64e4123ac837"
   },
   "outputs": [
    {
     "name": "stdout",
     "output_type": "stream",
     "text": [
      "0 : like, need, want, time, make, peopl, feel, realli, shit, wait, best, work, watch, come, sleep, gonna, help, stop, alway, great, follow, right, tell, thing, better\n",
      "1 : miss, shot, scare, love, jungkook, door, king, besti, dont, point, actual, sinc, thing, use, play, damn, come, illeg, return, mama, write, ride, state, tree, happi\n",
      "2 : think, stop, peopl, time, like, someth, pretti, bout, voic, make, star, good, thing, know, gonna, use, work, night, tomorrow, realli, littl, stuff, sound, organis, rememb\n",
      "3 : transform, stori, understand, dream, month, someon, live, togeth, nigga, fan, messag, save, trump, black, bore, told, season, chang, goe, charact, learn, stan, line, repli, smart\n",
      "4 : cri, friend, seen, clearli, scream, group, like, emot, cool, walk, shit, seven, togeth, pleas, lock, tini, ask, beauti, away, nigga, start, charact, sound, hurt, video\n",
      "5 : love, stori, alway, power, tell, hate, come, trump, color, crush, queen, dude, danc, peac, nope, king, hanbin, content, congrat, anymor, join, updat, away, free, babi\n",
      "6 : funni, loui, content, true, dream, smart, luck, high, fuck, sign, pretti, favorit, realiz, reason, good, tweet, everi, realli, want, love, right, girl, peopl, tell, follow\n",
      "7 : hope, soon, good, thank, come, love, okay, day, morn, final, till, sorri, complet, live, want, appli, chanc, throw, finish, luck, someth, pictur, think, wait, common\n",
      "8 : thank, fine, good, love, delet, hate, cuti, heartbreak, blame, kindli, closet, comfort, awak, thread, album, remind, share, littl, mani, noth, friend, post, annoy, lucki, homi\n",
      "9 : pleas, tweet, match, share, person, send, gift, watch, peopl, come, cute, schedul, donat, noth, account, play, promis, tell, remov, attack, sleep, love, boss, contact, mood\n",
      "10 : fact, went, tryna, speak, like, real, true, check, ahead, second, said, child, term, tool, lockdown, alway, nigerian, remain, babi, kind, month, mind, want, school, anoth\n",
      "11 : hard, work, make, home, sound, know, gorgeou, life, match, read, master, feel, clearli, success, account, best, laugh, readi, come, need, sinc, sorri, whatsapp, japan, dark\n",
      "12 : true, besti, leader, said, self, word, noth, care, improv, mean, hope, left, year, good, time, love, stop, follow, best, realli, better, girl, peopl, tell, everi\n",
      "13 : know, right, good, talk, friend, alreadi, littl, love, think, mani, mean, laugh, like, today, make, happen, girl, everyon, peopl, anyon, movi, caus, look, blood, favourit\n",
      "14 : proud, beauti, time, congrat, kinda, pandem, unit, boy, sens, fine, excit, mood, congratul, dream, thing, parent, room, clean, girl, babi, work, feel, pleas, hard, make\n",
      "15 : morn, good, today, make, love, wednesday, blue, great, safe, follow, stay, tough, like, mate, pink, gotta, enjoy, start, ladi, noth, everyday, boss, pic, minut, babi\n",
      "16 : happi, birthday, make, wish, season, like, best, great, becom, bday, enjoy, beauti, christma, ador, today, bruh, park, jame, bless, shine, greet, bell, wed, meet, fan\n",
      "17 : good, luck, night, thing, damn, feel, point, afternoon, news, sleep, want, friend, pretti, question, great, happen, leader, nder, edit, note, articl, project, stuff, hurt, seen\n",
      "18 : mayb, meant, like, angel, differ, time, littl, peopl, capit, broke, think, home, angri, meet, leagu, mess, word, point, sure, notic, didnt, asleep, hand, feel, laugh\n",
      "19 : look, like, good, beauti, today, alway, away, pleas, bell, cool, dress, soon, great, alreadi, make, ador, right, play, woman, forward, damn, kinda, hospit, seri, nigerian\n"
     ]
    }
   ],
   "source": [
    "kmeans = KMeans(n_clusters = 20, n_init = 20, n_jobs = 1)\n",
    "kmeans.fit(tf_idf_array)\n",
    "# We look at 5 the clusters generated by k-means.\n",
    "common_words = kmeans.cluster_centers_.argsort()[:,-1:-26:-1]\n",
    "for num, centroid in enumerate(common_words):\n",
    "    print(str(num) + ' : ' + ', '.join(words[word] for word in centroid))"
   ]
  },
  {
   "cell_type": "code",
   "execution_count": 166,
   "metadata": {
    "colab": {
     "base_uri": "https://localhost:8080/"
    },
    "executionInfo": {
     "elapsed": 24162,
     "status": "ok",
     "timestamp": 1607819819085,
     "user": {
      "displayName": "Yasmine Mejri",
      "photoUrl": "https://lh3.googleusercontent.com/a-/AOh14GitXB9uqeHn9LZHyp1jrvwlOpRiy4F4PmaqGsQu=s64",
      "userId": "13863323571485542434"
     },
     "user_tz": -60
    },
    "id": "WKgkTQ9adSKh",
    "outputId": "3c6f5f66-a4ac-4ce4-d554-a352fc100728"
   },
   "outputs": [
    {
     "name": "stdout",
     "output_type": "stream",
     "text": [
      "0 : valu, goe, youtub, free, gift, gener, gave, game, gain, futur, funni, fuckin, fuck, friend, friday, freedom, forward, glad, form, forgot, forget, foreign, forc, fool, food\n",
      "1 : think, want, need, know, time, make, peopl, look, miss, happi, feel, work, best, stop, right, great, wait, realli, help, alway, better, nice, thing, follow, sorri\n",
      "2 : come, hope, soon, pleas, thing, realli, power, love, like, mind, wait, send, ask, anyth, miss, talk, peopl, thank, guy, live, favorit, want, lmaoo, nder, home\n",
      "3 : okay, hope, heart, realli, hug, type, whenev, sweet, total, onlin, fine, class, comment, help, focu, collect, rain, probabl, allow, busi, readi, stori, follow, think, twitter\n",
      "4 : like, look, feel, realli, sound, tell, mani, need, think, follow, annoy, caus, minut, thing, make, comment, retweet, want, tri, life, sorri, right, charact, tast, exist\n",
      "5 : happen, good, follow, awak, wake, night, tell, wait, need, pic, replac, light, okay, didnt, flow, goodby, brother, today, let, month, worri, sometim, someth, play, everi\n",
      "6 : gonna, make, wait, think, lip, fix, lord, wear, phone, everyth, stop, bruh, come, thing, look, comfort, imma, mind, everybodi, design, asleep, month, scene, turn, shop\n",
      "7 : congrat, proud, kane, love, babi, beauti, girl, make, know, help, wait, alway, happi, hope, read, nice, realli, best, right, friend, hand, exactli, understand, free, everyth\n",
      "8 : say, need, joke, peopl, gonna, anyth, day, stop, instead, start, mani, alreadi, post, face, amaz, realli, short, sold, pic, stream, finger, treat, alcohol, huge, hold\n",
      "9 : thank, hope, love, fine, good, delet, follow, hate, cuti, heartbreak, blame, kindli, closet, comfort, awak, thread, album, remind, share, littl, mani, noth, friend, post, homi\n",
      "10 : funni, loui, content, dream, smart, luck, high, fuck, sign, pretti, favorit, realiz, reason, good, tweet, everi, realli, want, love, best, right, girl, stop, peopl, tell\n",
      "11 : good, luck, night, look, hope, thing, point, afternoon, news, soon, friend, life, think, great, leader, nder, love, edit, note, articl, make, project, want, stuff, hurt\n",
      "12 : sleep, want, wanna, goodnight, need, schedul, final, tomorrow, night, good, time, work, hour, feel, choos, fail, today, rest, babi, think, pleas, wish, coffe, break, warm\n",
      "13 : girl, best, like, clean, want, question, time, know, women, lucki, day, gone, guy, pass, play, dress, tryna, apolog, boy, treat, everybodi, friend, wonder, star, respons\n",
      "14 : shit, holi, realli, alway, fuck, like, mean, liter, went, wait, loser, whatev, sick, season, close, use, fuckin, high, glad, promis, pandem, love, shoot, goe, photo\n",
      "15 : morn, good, today, make, great, love, wednesday, blue, safe, follow, hope, stay, tough, mate, pink, gotta, enjoy, start, ladi, noth, everyday, boss, pic, minut, babi\n",
      "16 : cri, friend, seen, clearli, scream, group, like, emot, cool, walk, shit, seven, togeth, pleas, lock, tini, ask, beauti, away, nigga, start, charact, sound, hurt, video\n",
      "17 : talk, know, peopl, tell, dead, chanc, face, beauti, need, annoy, abl, mouth, catch, toxic, rest, word, problem, past, expect, like, children, anyon, club, proof, nigeria\n",
      "18 : love, stori, alway, power, miss, tell, hate, trump, like, color, crush, queen, dude, danc, peac, nope, king, hanbin, content, anymor, join, updat, away, free, babi\n",
      "19 : pleas, tweet, mood, match, person, send, gift, cute, donat, noth, think, play, promis, remov, attack, love, boss, contact, wake, share, check, help, like, want, peopl\n",
      "20 : alreadi, know, marri, rest, look, wait, hate, exhaust, finish, drop, bia, crush, think, play, tryna, open, seen, stan, flat, anymor, mark, favourit, want, tempt, mess\n",
      "21 : watch, time, gonna, stand, movi, like, video, liter, beauti, pleas, episod, class, bring, challeng, realli, night, whenev, wait, music, perform, everyth, girl, dead, style, lose\n",
      "22 : true, besti, leader, funni, said, self, fact, word, noth, care, check, improv, mean, hope, left, year, good, time, love, stop, follow, girl, everi, tell, better\n",
      "23 : day, left, christma, hope, till, better, know, kind, twitter, list, number, januari, insid, expect, love, interact, learn, break, rememb, absolut, togeth, away, cute, thought, okay\n",
      "24 : damn, good, citi, thing, look, realli, noth, easi, month, crave, kill, jesu, fuck, long, need, miss, everi, question, want, shit, nigerian, spread, feel, dress, tini\n"
     ]
    }
   ],
   "source": [
    "kmeans = KMeans(n_clusters = 25, n_init = 20, n_jobs = 1)\n",
    "kmeans.fit(tf_idf_array)\n",
    "# We look at 5 the clusters generated by k-means.\n",
    "common_words = kmeans.cluster_centers_.argsort()[:,-1:-26:-1]\n",
    "for num, centroid in enumerate(common_words):\n",
    "    print(str(num) + ' : ' + ', '.join(words[word] for word in centroid))"
   ]
  },
  {
   "cell_type": "code",
   "execution_count": 167,
   "metadata": {
    "colab": {
     "base_uri": "https://localhost:8080/"
    },
    "executionInfo": {
     "elapsed": 30073,
     "status": "ok",
     "timestamp": 1607818698576,
     "user": {
      "displayName": "Yasmine Mejri",
      "photoUrl": "https://lh3.googleusercontent.com/a-/AOh14GitXB9uqeHn9LZHyp1jrvwlOpRiy4F4PmaqGsQu=s64",
      "userId": "13863323571485542434"
     },
     "user_tz": -60
    },
    "id": "qHGYowNSdVFi",
    "outputId": "fcbf2a81-16bd-4973-9609-afc6d6ff8a11"
   },
   "outputs": [
    {
     "name": "stdout",
     "output_type": "stream",
     "text": [
      "0 : hate, life, fuck, love, face, thank, alreadi, mask, rest, read, suppos, realli, open, homi, school, friend, peopl, stop, line, come, blow, favourit, drunk, agre, stan\n",
      "1 : tell, like, talk, stop, love, spot, sent, laugh, book, stori, need, tri, happen, perform, post, major, gonna, bitch, stream, suck, tweet, scene, yall, time, everywher\n",
      "2 : pleas, come, tweet, match, play, person, send, gift, peopl, cute, noth, look, promis, remov, attack, love, boss, contact, mood, wake, share, check, help, like, want\n",
      "3 : know, time, look, make, miss, peopl, work, best, come, realli, stop, right, better, gonna, nice, alway, thing, help, girl, post, video, said, talk, christma, beauti\n",
      "4 : true, besti, check, leader, funni, block, said, anybodi, miss, self, fact, word, need, past, noth, mean, proof, talk, good, thank, follow, life, love, everi, sleep\n",
      "5 : hard, work, make, home, sound, know, gorgeou, match, read, master, feel, clearli, success, account, best, laugh, realli, readi, come, need, sinc, sorri, whatsapp, japan, dark\n",
      "6 : love, stori, alway, power, come, trump, color, crush, queen, dude, danc, peac, nope, king, hanbin, content, congrat, anymor, join, away, free, dream, school, wanna, said\n",
      "7 : cri, friend, seen, clearli, scream, group, like, emot, cool, walk, shit, seven, togeth, pleas, lock, tini, ask, beauti, away, nigga, start, charact, sound, hurt, video\n",
      "8 : great, news, look, start, song, morn, holiday, stuff, tweet, good, time, make, woman, love, blame, toxic, photo, intro, justic, reason, involv, imag, learn, respons, meme\n",
      "9 : warzon, intro, wake, stream, shit, come, work, cute, song, wanna, read, laugh, star, scene, place, rain, vibe, tast, music, backup, kiss, tryna, impact, holiday, circl\n",
      "10 : shit, holi, realli, like, alway, mean, fuck, know, bore, treat, liter, good, went, wait, loser, whatev, sick, season, close, use, fuckin, high, glad, promis, pandem\n",
      "11 : wait, friday, realli, fine, gonna, till, want, alreadi, home, duck, skin, major, movi, come, real, happen, work, time, pass, outsid, appar, announc, tiktok, open, oomf\n",
      "12 : good, morn, luck, night, thing, look, love, today, damn, point, afternoon, news, make, soon, care, wednesday, pretti, friend, life, brother, safe, christma, happen, leader, nder\n",
      "13 : think, know, stop, peopl, like, someth, pretti, bout, voic, home, make, star, mani, thing, time, gonna, work, physic, littl, stuff, good, long, kind, alreadi, actual\n",
      "14 : thank, fine, good, love, delet, cuti, heartbreak, blame, kindli, closet, comfort, awak, album, remind, share, littl, mani, noth, friend, post, lucki, shine, sign, proof, gone\n",
      "15 : feel, like, good, need, wanna, love, pain, lose, emot, account, make, stan, peopl, dress, mood, know, free, walk, convers, kinda, year, gotta, damn, daili, hurt\n",
      "16 : hope, soon, good, thank, come, love, okay, final, sorri, complet, live, want, appli, chanc, finish, luck, someth, common, hug, mutual, tonight, yesss, right, need, forgot\n",
      "17 : thought, thing, realli, someth, alon, exactli, enjoy, career, kind, politician, came, player, feel, track, togeth, crave, upset, noth, alway, sexi, crazi, make, damn, beat, cute\n",
      "18 : happi, birthday, make, wish, season, miss, like, best, great, becom, bday, love, enjoy, beauti, christma, ador, today, bruh, park, jame, bless, shine, greet, bell, wed\n",
      "19 : follow, retweet, check, gain, peopl, automat, like, unfollow, comment, issu, cute, mani, twitter, number, offici, fast, gotta, month, busi, friend, weed, delet, sure, nice, patient\n",
      "20 : updat, plan, lane, construct, capit, game, circl, west, block, stream, right, vibe, hand, illeg, realli, love, forgot, tonight, readi, came, complet, make, miss, faith, boy\n",
      "21 : babi, rain, absolut, goodnight, reason, becom, month, sleep, want, love, christma, ahead, today, went, fact, good, follow, stop, look, girl, right, best, better, tell, said\n",
      "22 : sleep, want, goodnight, schedul, final, tomorrow, night, good, wanna, time, work, hour, need, choos, fail, today, rest, think, pleas, wish, coffe, break, warm, ring, moot\n",
      "23 : watch, time, gonna, stand, movi, like, video, liter, beauti, pleas, episod, class, bring, challeng, night, whenev, wait, music, perform, everyth, girl, dead, style, lose, mani\n",
      "24 : want, time, dont, like, money, girl, nobodi, sinc, movi, alway, right, idea, good, avoid, togeth, come, play, warm, best, homi, spend, daili, backup, mood, peopl\n",
      "25 : thread, read, thank, come, shit, work, cute, wanna, song, star, rain, scene, wake, laugh, kiss, tast, vibe, music, place, backup, friday, impact, tryna, chat, gener\n",
      "26 : like, look, sound, realli, thing, make, mani, girl, annoy, life, tast, minut, sometim, morn, peopl, charact, tweet, sorri, tri, come, thank, caus, talk, dress, fuck\n",
      "27 : need, backup, battl, help, bahamut, life, say, time, like, sold, anyth, alway, line, drag, friend, alreadi, peopl, covid, joke, love, chang, danc, shot, use, recommend\n",
      "28 : pictur, look, think, dont, make, use, offer, togeth, right, post, surpris, know, pakistan, supremecourtstand, like, hospit, base, mind, pretti, contact, farmer, save, polit, mostli, view\n",
      "29 : ladi, fool, straight, messag, place, welcom, sinc, anyth, song, dick, child, actual, know, make, read, hope, wait, nice, help, shit, friend, right, realli, happi, best\n"
     ]
    }
   ],
   "source": [
    "kmeans = KMeans(n_clusters =30, n_init = 20, n_jobs = 1)\n",
    "kmeans.fit(tf_idf_array)\n",
    "# We look at 5 the clusters generated by k-means.\n",
    "common_words = kmeans.cluster_centers_.argsort()[:,-1:-26:-1]\n",
    "for num, centroid in enumerate(common_words):\n",
    "    print(str(num) + ' : ' + ', '.join(words[word] for word in centroid))"
   ]
  },
  {
   "cell_type": "code",
   "execution_count": null,
   "metadata": {},
   "outputs": [],
   "source": []
  }
 ],
 "metadata": {
  "colab": {
   "collapsed_sections": [],
   "name": "Version1.ipynb",
   "provenance": [],
   "toc_visible": true
  },
  "kernelspec": {
   "display_name": "Python 3",
   "language": "python",
   "name": "python3"
  },
  "language_info": {
   "codemirror_mode": {
    "name": "ipython",
    "version": 3
   },
   "file_extension": ".py",
   "mimetype": "text/x-python",
   "name": "python",
   "nbconvert_exporter": "python",
   "pygments_lexer": "ipython3",
   "version": "3.7.6"
  }
 },
 "nbformat": 4,
 "nbformat_minor": 1
}
